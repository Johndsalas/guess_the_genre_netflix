{
 "cells": [
  {
   "cell_type": "markdown",
   "id": "limited-colonial",
   "metadata": {},
   "source": [
    "# Imports"
   ]
  },
  {
   "cell_type": "code",
   "execution_count": 1,
   "id": "upset-deployment",
   "metadata": {},
   "outputs": [],
   "source": [
    "import pandas as pd\n",
    "import re\n",
    "\n",
    "import unicodedata\n",
    "import nltk\n",
    "from nltk.tokenize.toktok import ToktokTokenizer\n",
    "from nltk.corpus import stopwords\n",
    "\n",
    "import wrangle as w\n",
    "import explore as e\n",
    "import modeling as m"
   ]
  },
  {
   "cell_type": "markdown",
   "id": "understanding-hierarchy",
   "metadata": {},
   "source": [
    "# Acquire\n",
    "\n",
    "* Data aquired from [Kaggle](https://www.kaggle.com/satpreetmakhija/netflix-movies-and-tv-shows-2021) on 2/04/2022\n",
    "* Each observation represents on movie or film series \n",
    "* Because the distinction between a single movie an a multi-part series is not relevant to this study I will be referring to each as a movie for the duration of this study\n",
    "* The original data set had 5967 rows and 13 columns"
   ]
  },
  {
   "cell_type": "code",
   "execution_count": 2,
   "id": "exceptional-judge",
   "metadata": {},
   "outputs": [
    {
     "data": {
      "text/plain": [
       "(5967, 13)"
      ]
     },
     "execution_count": 2,
     "metadata": {},
     "output_type": "execute_result"
    }
   ],
   "source": [
    "# read the csv into pandas\n",
    "df = pd.read_csv('netflixdata.csv')\n",
    "df.shape"
   ]
  },
  {
   "cell_type": "markdown",
   "id": "minor-enlargement",
   "metadata": {},
   "source": [
    "# Prepare"
   ]
  },
  {
   "cell_type": "code",
   "execution_count": null,
   "id": "superb-ultimate",
   "metadata": {},
   "outputs": [],
   "source": [
    "df = prep_movie_info(df)\n",
    "df.head()"
   ]
  },
  {
   "cell_type": "code",
   "execution_count": 3,
   "id": "moved-musical",
   "metadata": {},
   "outputs": [
    {
     "data": {
      "text/plain": [
       "Index(['Show Id', 'Title', 'Description', 'Director', 'Genres', 'Cast',\n",
       "       'Production Country', 'Release Date', 'Rating', 'Duration',\n",
       "       'Imdb Score', 'Content Type', 'Date Added'],\n",
       "      dtype='object')"
      ]
     },
     "execution_count": 3,
     "metadata": {},
     "output_type": "execute_result"
    }
   ],
   "source": [
    "df.columns"
   ]
  },
  {
   "cell_type": "code",
   "execution_count": 4,
   "id": "specific-native",
   "metadata": {},
   "outputs": [
    {
     "data": {
      "text/html": [
       "<div>\n",
       "<style scoped>\n",
       "    .dataframe tbody tr th:only-of-type {\n",
       "        vertical-align: middle;\n",
       "    }\n",
       "\n",
       "    .dataframe tbody tr th {\n",
       "        vertical-align: top;\n",
       "    }\n",
       "\n",
       "    .dataframe thead th {\n",
       "        text-align: right;\n",
       "    }\n",
       "</style>\n",
       "<table border=\"1\" class=\"dataframe\">\n",
       "  <thead>\n",
       "    <tr style=\"text-align: right;\">\n",
       "      <th></th>\n",
       "      <th>Description</th>\n",
       "      <th>Genres</th>\n",
       "    </tr>\n",
       "  </thead>\n",
       "  <tbody>\n",
       "    <tr>\n",
       "      <th>0</th>\n",
       "      <td>This docuseries takes a deep dive into the luc...</td>\n",
       "      <td>Reality TV</td>\n",
       "    </tr>\n",
       "    <tr>\n",
       "      <th>1</th>\n",
       "      <td>As a grisly virus rampages a city, a lone man ...</td>\n",
       "      <td>Horror Movies, International Movies, Thrillers</td>\n",
       "    </tr>\n",
       "    <tr>\n",
       "      <th>2</th>\n",
       "      <td>Through her diary, Anne Frank's story is retol...</td>\n",
       "      <td>Documentaries, International Movies</td>\n",
       "    </tr>\n",
       "    <tr>\n",
       "      <th>3</th>\n",
       "      <td>Kenya Barris and his family navigate relations...</td>\n",
       "      <td>TV Comedies</td>\n",
       "    </tr>\n",
       "    <tr>\n",
       "      <th>4</th>\n",
       "      <td>This pawesome documentary explores how our fel...</td>\n",
       "      <td>Documentaries, International Movies</td>\n",
       "    </tr>\n",
       "  </tbody>\n",
       "</table>\n",
       "</div>"
      ],
      "text/plain": [
       "                                         Description  \\\n",
       "0  This docuseries takes a deep dive into the luc...   \n",
       "1  As a grisly virus rampages a city, a lone man ...   \n",
       "2  Through her diary, Anne Frank's story is retol...   \n",
       "3  Kenya Barris and his family navigate relations...   \n",
       "4  This pawesome documentary explores how our fel...   \n",
       "\n",
       "                                           Genres  \n",
       "0                                      Reality TV  \n",
       "1  Horror Movies, International Movies, Thrillers  \n",
       "2             Documentaries, International Movies  \n",
       "3                                     TV Comedies  \n",
       "4             Documentaries, International Movies  "
      ]
     },
     "execution_count": 4,
     "metadata": {},
     "output_type": "execute_result"
    }
   ],
   "source": [
    "df = df[['Description','Genres']]\n",
    "df.head()"
   ]
  },
  {
   "cell_type": "code",
   "execution_count": 5,
   "id": "virtual-convention",
   "metadata": {},
   "outputs": [
    {
     "data": {
      "text/html": [
       "<div>\n",
       "<style scoped>\n",
       "    .dataframe tbody tr th:only-of-type {\n",
       "        vertical-align: middle;\n",
       "    }\n",
       "\n",
       "    .dataframe tbody tr th {\n",
       "        vertical-align: top;\n",
       "    }\n",
       "\n",
       "    .dataframe thead th {\n",
       "        text-align: right;\n",
       "    }\n",
       "</style>\n",
       "<table border=\"1\" class=\"dataframe\">\n",
       "  <thead>\n",
       "    <tr style=\"text-align: right;\">\n",
       "      <th></th>\n",
       "      <th>Description</th>\n",
       "      <th>Genres</th>\n",
       "    </tr>\n",
       "  </thead>\n",
       "  <tbody>\n",
       "    <tr>\n",
       "      <th>0</th>\n",
       "      <td>this docuseries takes a deep dive into the luc...</td>\n",
       "      <td>reality tv</td>\n",
       "    </tr>\n",
       "    <tr>\n",
       "      <th>1</th>\n",
       "      <td>as a grisly virus rampages a city, a lone man ...</td>\n",
       "      <td>horror movies, international movies, thrillers</td>\n",
       "    </tr>\n",
       "    <tr>\n",
       "      <th>2</th>\n",
       "      <td>through her diary, anne frank's story is retol...</td>\n",
       "      <td>documentaries, international movies</td>\n",
       "    </tr>\n",
       "    <tr>\n",
       "      <th>3</th>\n",
       "      <td>kenya barris and his family navigate relations...</td>\n",
       "      <td>tv comedies</td>\n",
       "    </tr>\n",
       "    <tr>\n",
       "      <th>4</th>\n",
       "      <td>this pawesome documentary explores how our fel...</td>\n",
       "      <td>documentaries, international movies</td>\n",
       "    </tr>\n",
       "  </tbody>\n",
       "</table>\n",
       "</div>"
      ],
      "text/plain": [
       "                                         Description  \\\n",
       "0  this docuseries takes a deep dive into the luc...   \n",
       "1  as a grisly virus rampages a city, a lone man ...   \n",
       "2  through her diary, anne frank's story is retol...   \n",
       "3  kenya barris and his family navigate relations...   \n",
       "4  this pawesome documentary explores how our fel...   \n",
       "\n",
       "                                           Genres  \n",
       "0                                      reality tv  \n",
       "1  horror movies, international movies, thrillers  \n",
       "2             documentaries, international movies  \n",
       "3                                     tv comedies  \n",
       "4             documentaries, international movies  "
      ]
     },
     "execution_count": 5,
     "metadata": {},
     "output_type": "execute_result"
    }
   ],
   "source": [
    "# Lowercase all of the letters in both columns\n",
    "df['Description'] = df['Description'].apply(lambda value: value.lower())\n",
    "df['Genres'] = df['Genres'].apply(lambda value: value.lower())\n",
    "df.head()"
   ]
  },
  {
   "cell_type": "code",
   "execution_count": 6,
   "id": "timely-bumper",
   "metadata": {},
   "outputs": [
    {
     "data": {
      "text/html": [
       "<div>\n",
       "<style scoped>\n",
       "    .dataframe tbody tr th:only-of-type {\n",
       "        vertical-align: middle;\n",
       "    }\n",
       "\n",
       "    .dataframe tbody tr th {\n",
       "        vertical-align: top;\n",
       "    }\n",
       "\n",
       "    .dataframe thead th {\n",
       "        text-align: right;\n",
       "    }\n",
       "</style>\n",
       "<table border=\"1\" class=\"dataframe\">\n",
       "  <thead>\n",
       "    <tr style=\"text-align: right;\">\n",
       "      <th></th>\n",
       "      <th>description</th>\n",
       "      <th>genre</th>\n",
       "    </tr>\n",
       "  </thead>\n",
       "  <tbody>\n",
       "    <tr>\n",
       "      <th>0</th>\n",
       "      <td>this docuseries takes a deep dive into the luc...</td>\n",
       "      <td>reality tv</td>\n",
       "    </tr>\n",
       "    <tr>\n",
       "      <th>1</th>\n",
       "      <td>as a grisly virus rampages a city, a lone man ...</td>\n",
       "      <td>horror movies, international movies, thrillers</td>\n",
       "    </tr>\n",
       "    <tr>\n",
       "      <th>2</th>\n",
       "      <td>through her diary, anne frank's story is retol...</td>\n",
       "      <td>documentaries, international movies</td>\n",
       "    </tr>\n",
       "    <tr>\n",
       "      <th>3</th>\n",
       "      <td>kenya barris and his family navigate relations...</td>\n",
       "      <td>tv comedies</td>\n",
       "    </tr>\n",
       "    <tr>\n",
       "      <th>4</th>\n",
       "      <td>this pawesome documentary explores how our fel...</td>\n",
       "      <td>documentaries, international movies</td>\n",
       "    </tr>\n",
       "  </tbody>\n",
       "</table>\n",
       "</div>"
      ],
      "text/plain": [
       "                                         description  \\\n",
       "0  this docuseries takes a deep dive into the luc...   \n",
       "1  as a grisly virus rampages a city, a lone man ...   \n",
       "2  through her diary, anne frank's story is retol...   \n",
       "3  kenya barris and his family navigate relations...   \n",
       "4  this pawesome documentary explores how our fel...   \n",
       "\n",
       "                                            genre  \n",
       "0                                      reality tv  \n",
       "1  horror movies, international movies, thrillers  \n",
       "2             documentaries, international movies  \n",
       "3                                     tv comedies  \n",
       "4             documentaries, international movies  "
      ]
     },
     "execution_count": 6,
     "metadata": {},
     "output_type": "execute_result"
    }
   ],
   "source": [
    "# rename columns\n",
    "df.rename(columns={'Description':'description', 'Genres':'genre'}, inplace = True)\n",
    "df.head()"
   ]
  },
  {
   "cell_type": "code",
   "execution_count": 7,
   "id": "african-basics",
   "metadata": {},
   "outputs": [
    {
     "data": {
      "text/html": [
       "<div>\n",
       "<style scoped>\n",
       "    .dataframe tbody tr th:only-of-type {\n",
       "        vertical-align: middle;\n",
       "    }\n",
       "\n",
       "    .dataframe tbody tr th {\n",
       "        vertical-align: top;\n",
       "    }\n",
       "\n",
       "    .dataframe thead th {\n",
       "        text-align: right;\n",
       "    }\n",
       "</style>\n",
       "<table border=\"1\" class=\"dataframe\">\n",
       "  <thead>\n",
       "    <tr style=\"text-align: right;\">\n",
       "      <th></th>\n",
       "      <th>description</th>\n",
       "      <th>genre</th>\n",
       "    </tr>\n",
       "  </thead>\n",
       "  <tbody>\n",
       "    <tr>\n",
       "      <th>0</th>\n",
       "      <td>this docuseries takes a deep dive into the luc...</td>\n",
       "      <td>reality tv</td>\n",
       "    </tr>\n",
       "    <tr>\n",
       "      <th>1</th>\n",
       "      <td>as a grisly virus rampages a city, a lone man ...</td>\n",
       "      <td>horror movies, international movies, thrillers</td>\n",
       "    </tr>\n",
       "    <tr>\n",
       "      <th>2</th>\n",
       "      <td>through her diary, anne frank's story is retol...</td>\n",
       "      <td>documentaries, international movies</td>\n",
       "    </tr>\n",
       "    <tr>\n",
       "      <th>3</th>\n",
       "      <td>kenya barris and his family navigate relations...</td>\n",
       "      <td>tv comedies</td>\n",
       "    </tr>\n",
       "    <tr>\n",
       "      <th>4</th>\n",
       "      <td>this pawesome documentary explores how our fel...</td>\n",
       "      <td>documentaries, international movies</td>\n",
       "    </tr>\n",
       "  </tbody>\n",
       "</table>\n",
       "</div>"
      ],
      "text/plain": [
       "                                         description  \\\n",
       "0  this docuseries takes a deep dive into the luc...   \n",
       "1  as a grisly virus rampages a city, a lone man ...   \n",
       "2  through her diary, anne frank's story is retol...   \n",
       "3  kenya barris and his family navigate relations...   \n",
       "4  this pawesome documentary explores how our fel...   \n",
       "\n",
       "                                            genre  \n",
       "0                                      reality tv  \n",
       "1  horror movies, international movies, thrillers  \n",
       "2             documentaries, international movies  \n",
       "3                                     tv comedies  \n",
       "4             documentaries, international movies  "
      ]
     },
     "execution_count": 7,
     "metadata": {},
     "output_type": "execute_result"
    }
   ],
   "source": [
    "# remove non-ascii characters from description text \n",
    "df['description'] = df['description'].apply(lambda value: unicodedata.normalize('NFKD', value)\\\n",
    "                                                                     .encode('ascii', 'ignore')\\\n",
    "                                                                     .decode('utf-8', 'ignore'))\n",
    "df.head()"
   ]
  },
  {
   "cell_type": "code",
   "execution_count": 8,
   "id": "narrow-brunei",
   "metadata": {},
   "outputs": [
    {
     "data": {
      "text/html": [
       "<div>\n",
       "<style scoped>\n",
       "    .dataframe tbody tr th:only-of-type {\n",
       "        vertical-align: middle;\n",
       "    }\n",
       "\n",
       "    .dataframe tbody tr th {\n",
       "        vertical-align: top;\n",
       "    }\n",
       "\n",
       "    .dataframe thead th {\n",
       "        text-align: right;\n",
       "    }\n",
       "</style>\n",
       "<table border=\"1\" class=\"dataframe\">\n",
       "  <thead>\n",
       "    <tr style=\"text-align: right;\">\n",
       "      <th></th>\n",
       "      <th>description</th>\n",
       "      <th>genre</th>\n",
       "    </tr>\n",
       "  </thead>\n",
       "  <tbody>\n",
       "    <tr>\n",
       "      <th>0</th>\n",
       "      <td>this docuseries takes a deep dive into the luc...</td>\n",
       "      <td>reality tv</td>\n",
       "    </tr>\n",
       "    <tr>\n",
       "      <th>1</th>\n",
       "      <td>as a grisly virus rampages a city a lone man s...</td>\n",
       "      <td>horror movies, international movies, thrillers</td>\n",
       "    </tr>\n",
       "    <tr>\n",
       "      <th>2</th>\n",
       "      <td>through her diary anne franks story is retold ...</td>\n",
       "      <td>documentaries, international movies</td>\n",
       "    </tr>\n",
       "    <tr>\n",
       "      <th>3</th>\n",
       "      <td>kenya barris and his family navigate relations...</td>\n",
       "      <td>tv comedies</td>\n",
       "    </tr>\n",
       "    <tr>\n",
       "      <th>4</th>\n",
       "      <td>this pawesome documentary explores how our fel...</td>\n",
       "      <td>documentaries, international movies</td>\n",
       "    </tr>\n",
       "  </tbody>\n",
       "</table>\n",
       "</div>"
      ],
      "text/plain": [
       "                                         description  \\\n",
       "0  this docuseries takes a deep dive into the luc...   \n",
       "1  as a grisly virus rampages a city a lone man s...   \n",
       "2  through her diary anne franks story is retold ...   \n",
       "3  kenya barris and his family navigate relations...   \n",
       "4  this pawesome documentary explores how our fel...   \n",
       "\n",
       "                                            genre  \n",
       "0                                      reality tv  \n",
       "1  horror movies, international movies, thrillers  \n",
       "2             documentaries, international movies  \n",
       "3                                     tv comedies  \n",
       "4             documentaries, international movies  "
      ]
     },
     "execution_count": 8,
     "metadata": {},
     "output_type": "execute_result"
    }
   ],
   "source": [
    "# remove special characters from description text\n",
    "df['description'] = df['description'].apply(lambda value: re.sub(r\"[^a-z0-9\\s]\", '', value))\n",
    "\n",
    "df.head()"
   ]
  },
  {
   "cell_type": "code",
   "execution_count": 9,
   "id": "juvenile-median",
   "metadata": {},
   "outputs": [
    {
     "data": {
      "text/html": [
       "<div>\n",
       "<style scoped>\n",
       "    .dataframe tbody tr th:only-of-type {\n",
       "        vertical-align: middle;\n",
       "    }\n",
       "\n",
       "    .dataframe tbody tr th {\n",
       "        vertical-align: top;\n",
       "    }\n",
       "\n",
       "    .dataframe thead th {\n",
       "        text-align: right;\n",
       "    }\n",
       "</style>\n",
       "<table border=\"1\" class=\"dataframe\">\n",
       "  <thead>\n",
       "    <tr style=\"text-align: right;\">\n",
       "      <th></th>\n",
       "      <th>description</th>\n",
       "      <th>genre</th>\n",
       "    </tr>\n",
       "  </thead>\n",
       "  <tbody>\n",
       "    <tr>\n",
       "      <th>0</th>\n",
       "      <td>this docuseries takes a deep dive into the luc...</td>\n",
       "      <td>reality tv</td>\n",
       "    </tr>\n",
       "    <tr>\n",
       "      <th>1</th>\n",
       "      <td>as a grisly virus rampages a city a lone man s...</td>\n",
       "      <td>horror movies, international movies, thrillers</td>\n",
       "    </tr>\n",
       "    <tr>\n",
       "      <th>2</th>\n",
       "      <td>through her diary anne franks story is retold ...</td>\n",
       "      <td>documentaries, international movies</td>\n",
       "    </tr>\n",
       "    <tr>\n",
       "      <th>3</th>\n",
       "      <td>kenya barris and his family navigate relations...</td>\n",
       "      <td>tv comedies</td>\n",
       "    </tr>\n",
       "    <tr>\n",
       "      <th>4</th>\n",
       "      <td>this pawesome documentary explores how our fel...</td>\n",
       "      <td>documentaries, international movies</td>\n",
       "    </tr>\n",
       "  </tbody>\n",
       "</table>\n",
       "</div>"
      ],
      "text/plain": [
       "                                         description  \\\n",
       "0  this docuseries takes a deep dive into the luc...   \n",
       "1  as a grisly virus rampages a city a lone man s...   \n",
       "2  through her diary anne franks story is retold ...   \n",
       "3  kenya barris and his family navigate relations...   \n",
       "4  this pawesome documentary explores how our fel...   \n",
       "\n",
       "                                            genre  \n",
       "0                                      reality tv  \n",
       "1  horror movies, international movies, thrillers  \n",
       "2             documentaries, international movies  \n",
       "3                                     tv comedies  \n",
       "4             documentaries, international movies  "
      ]
     },
     "execution_count": 9,
     "metadata": {},
     "output_type": "execute_result"
    }
   ],
   "source": [
    "# create tokenizer object\n",
    "tokenizer = nltk.tokenize.ToktokTokenizer()\n",
    "\n",
    "# tokenize text in description\n",
    "df['description'] = df['description'].apply(lambda value: tokenizer.tokenize(value, return_str=True))\n",
    "\n",
    "df.head()"
   ]
  },
  {
   "cell_type": "code",
   "execution_count": 10,
   "id": "unlimited-retro",
   "metadata": {},
   "outputs": [],
   "source": [
    "wnl = nltk.stem.WordNetLemmatizer()\n",
    "\n",
    "def lemmatizer(value):\n",
    "    '''Takes in a value from a pandas column and returns the value lemmatized'''\n",
    "    \n",
    "    # get list of lemmatized words in value\n",
    "    value_lemmas = [wnl.lemmatize(word) for word in value.split()]\n",
    "    \n",
    "    # turn list or words back into a string and return value\n",
    "    return ' '.join(value_lemmas)"
   ]
  },
  {
   "cell_type": "code",
   "execution_count": 11,
   "id": "automotive-somewhere",
   "metadata": {},
   "outputs": [
    {
     "data": {
      "text/html": [
       "<div>\n",
       "<style scoped>\n",
       "    .dataframe tbody tr th:only-of-type {\n",
       "        vertical-align: middle;\n",
       "    }\n",
       "\n",
       "    .dataframe tbody tr th {\n",
       "        vertical-align: top;\n",
       "    }\n",
       "\n",
       "    .dataframe thead th {\n",
       "        text-align: right;\n",
       "    }\n",
       "</style>\n",
       "<table border=\"1\" class=\"dataframe\">\n",
       "  <thead>\n",
       "    <tr style=\"text-align: right;\">\n",
       "      <th></th>\n",
       "      <th>description</th>\n",
       "      <th>genre</th>\n",
       "    </tr>\n",
       "  </thead>\n",
       "  <tbody>\n",
       "    <tr>\n",
       "      <th>0</th>\n",
       "      <td>this docuseries take a deep dive into the lucr...</td>\n",
       "      <td>reality tv</td>\n",
       "    </tr>\n",
       "    <tr>\n",
       "      <th>1</th>\n",
       "      <td>a a grisly virus rampage a city a lone man sta...</td>\n",
       "      <td>horror movies, international movies, thrillers</td>\n",
       "    </tr>\n",
       "    <tr>\n",
       "      <th>2</th>\n",
       "      <td>through her diary anne frank story is retold a...</td>\n",
       "      <td>documentaries, international movies</td>\n",
       "    </tr>\n",
       "    <tr>\n",
       "      <th>3</th>\n",
       "      <td>kenya barris and his family navigate relations...</td>\n",
       "      <td>tv comedies</td>\n",
       "    </tr>\n",
       "    <tr>\n",
       "      <th>4</th>\n",
       "      <td>this pawesome documentary explores how our fel...</td>\n",
       "      <td>documentaries, international movies</td>\n",
       "    </tr>\n",
       "  </tbody>\n",
       "</table>\n",
       "</div>"
      ],
      "text/plain": [
       "                                         description  \\\n",
       "0  this docuseries take a deep dive into the lucr...   \n",
       "1  a a grisly virus rampage a city a lone man sta...   \n",
       "2  through her diary anne frank story is retold a...   \n",
       "3  kenya barris and his family navigate relations...   \n",
       "4  this pawesome documentary explores how our fel...   \n",
       "\n",
       "                                            genre  \n",
       "0                                      reality tv  \n",
       "1  horror movies, international movies, thrillers  \n",
       "2             documentaries, international movies  \n",
       "3                                     tv comedies  \n",
       "4             documentaries, international movies  "
      ]
     },
     "execution_count": 11,
     "metadata": {},
     "output_type": "execute_result"
    }
   ],
   "source": [
    "# lemmatize the text in description\n",
    "df['description'] = df['description'].apply(lambda value: lemmatizer(value))\n",
    "\n",
    "df.head()"
   ]
  },
  {
   "cell_type": "code",
   "execution_count": 12,
   "id": "compound-priority",
   "metadata": {},
   "outputs": [],
   "source": [
    "def remove_stopwords(value):\n",
    "    \n",
    "    # get list english language stopwords list from nlt\n",
    "    stopword_list = stopwords.words('english')\n",
    "    \n",
    "    # split words in pandas value into a list and remove words from the list that are in stopwords\n",
    "    value_words = value.split()\n",
    "    filtered_list = [word for word in value_words if word not in stopword_list]\n",
    "    \n",
    "    # convert list back into string and return value\n",
    "    return ' '.join(filtered_list)"
   ]
  },
  {
   "cell_type": "code",
   "execution_count": 13,
   "id": "confident-leather",
   "metadata": {},
   "outputs": [
    {
     "data": {
      "text/html": [
       "<div>\n",
       "<style scoped>\n",
       "    .dataframe tbody tr th:only-of-type {\n",
       "        vertical-align: middle;\n",
       "    }\n",
       "\n",
       "    .dataframe tbody tr th {\n",
       "        vertical-align: top;\n",
       "    }\n",
       "\n",
       "    .dataframe thead th {\n",
       "        text-align: right;\n",
       "    }\n",
       "</style>\n",
       "<table border=\"1\" class=\"dataframe\">\n",
       "  <thead>\n",
       "    <tr style=\"text-align: right;\">\n",
       "      <th></th>\n",
       "      <th>description</th>\n",
       "      <th>genre</th>\n",
       "    </tr>\n",
       "  </thead>\n",
       "  <tbody>\n",
       "    <tr>\n",
       "      <th>0</th>\n",
       "      <td>docuseries take deep dive lucrative wellness i...</td>\n",
       "      <td>reality tv</td>\n",
       "    </tr>\n",
       "    <tr>\n",
       "      <th>1</th>\n",
       "      <td>grisly virus rampage city lone man stay locked...</td>\n",
       "      <td>horror movies, international movies, thrillers</td>\n",
       "    </tr>\n",
       "    <tr>\n",
       "      <th>2</th>\n",
       "      <td>diary anne frank story retold alongside five h...</td>\n",
       "      <td>documentaries, international movies</td>\n",
       "    </tr>\n",
       "    <tr>\n",
       "      <th>3</th>\n",
       "      <td>kenya barris family navigate relationship race...</td>\n",
       "      <td>tv comedies</td>\n",
       "    </tr>\n",
       "    <tr>\n",
       "      <th>4</th>\n",
       "      <td>pawesome documentary explores feline friend be...</td>\n",
       "      <td>documentaries, international movies</td>\n",
       "    </tr>\n",
       "  </tbody>\n",
       "</table>\n",
       "</div>"
      ],
      "text/plain": [
       "                                         description  \\\n",
       "0  docuseries take deep dive lucrative wellness i...   \n",
       "1  grisly virus rampage city lone man stay locked...   \n",
       "2  diary anne frank story retold alongside five h...   \n",
       "3  kenya barris family navigate relationship race...   \n",
       "4  pawesome documentary explores feline friend be...   \n",
       "\n",
       "                                            genre  \n",
       "0                                      reality tv  \n",
       "1  horror movies, international movies, thrillers  \n",
       "2             documentaries, international movies  \n",
       "3                                     tv comedies  \n",
       "4             documentaries, international movies  "
      ]
     },
     "execution_count": 13,
     "metadata": {},
     "output_type": "execute_result"
    }
   ],
   "source": [
    "# remove stopwords from text in description\n",
    "df['description'] = df['description'].apply(lambda value: remove_stopwords(value))\n",
    "\n",
    "df.head()"
   ]
  },
  {
   "cell_type": "code",
   "execution_count": 14,
   "id": "recognized-destruction",
   "metadata": {},
   "outputs": [],
   "source": [
    "def remove_cinima_type(value):\n",
    "    '''Take in genre text from a pandas column\n",
    "       Remove text indicating standalone movie or series\n",
    "       return remainder of the text'''\n",
    "     \n",
    "    value = value.replace(' tv','') \n",
    "    value = value.replace('tv ','')\n",
    "    value = value.replace(' shows','')\n",
    "    value = value.replace(' movies','')\n",
    "    value = value.replace(' series','')\n",
    "    value = value.replace(' features','')\n",
    "    \n",
    "    value = [genre.strip() for genre in value.split(',')]\n",
    "    \n",
    "    return ','.join(value)"
   ]
  },
  {
   "cell_type": "code",
   "execution_count": 15,
   "id": "informed-saudi",
   "metadata": {},
   "outputs": [
    {
     "data": {
      "text/html": [
       "<div>\n",
       "<style scoped>\n",
       "    .dataframe tbody tr th:only-of-type {\n",
       "        vertical-align: middle;\n",
       "    }\n",
       "\n",
       "    .dataframe tbody tr th {\n",
       "        vertical-align: top;\n",
       "    }\n",
       "\n",
       "    .dataframe thead th {\n",
       "        text-align: right;\n",
       "    }\n",
       "</style>\n",
       "<table border=\"1\" class=\"dataframe\">\n",
       "  <thead>\n",
       "    <tr style=\"text-align: right;\">\n",
       "      <th></th>\n",
       "      <th>description</th>\n",
       "      <th>genre</th>\n",
       "    </tr>\n",
       "  </thead>\n",
       "  <tbody>\n",
       "    <tr>\n",
       "      <th>0</th>\n",
       "      <td>docuseries take deep dive lucrative wellness i...</td>\n",
       "      <td>reality</td>\n",
       "    </tr>\n",
       "    <tr>\n",
       "      <th>1</th>\n",
       "      <td>grisly virus rampage city lone man stay locked...</td>\n",
       "      <td>horror,international,thrillers</td>\n",
       "    </tr>\n",
       "    <tr>\n",
       "      <th>2</th>\n",
       "      <td>diary anne frank story retold alongside five h...</td>\n",
       "      <td>documentaries,international</td>\n",
       "    </tr>\n",
       "    <tr>\n",
       "      <th>3</th>\n",
       "      <td>kenya barris family navigate relationship race...</td>\n",
       "      <td>comedies</td>\n",
       "    </tr>\n",
       "    <tr>\n",
       "      <th>4</th>\n",
       "      <td>pawesome documentary explores feline friend be...</td>\n",
       "      <td>documentaries,international</td>\n",
       "    </tr>\n",
       "  </tbody>\n",
       "</table>\n",
       "</div>"
      ],
      "text/plain": [
       "                                         description  \\\n",
       "0  docuseries take deep dive lucrative wellness i...   \n",
       "1  grisly virus rampage city lone man stay locked...   \n",
       "2  diary anne frank story retold alongside five h...   \n",
       "3  kenya barris family navigate relationship race...   \n",
       "4  pawesome documentary explores feline friend be...   \n",
       "\n",
       "                            genre  \n",
       "0                         reality  \n",
       "1  horror,international,thrillers  \n",
       "2     documentaries,international  \n",
       "3                        comedies  \n",
       "4     documentaries,international  "
      ]
     },
     "execution_count": 15,
     "metadata": {},
     "output_type": "execute_result"
    }
   ],
   "source": [
    "df['genre'] = df['genre'].apply(lambda value: remove_cinima_type(value))\n",
    "\n",
    "df.head()"
   ]
  },
  {
   "cell_type": "code",
   "execution_count": 16,
   "id": "commercial-consent",
   "metadata": {},
   "outputs": [
    {
     "name": "stdout",
     "output_type": "stream",
     "text": [
      "<class 'pandas.core.frame.DataFrame'>\n",
      "RangeIndex: 5967 entries, 0 to 5966\n",
      "Data columns (total 2 columns):\n",
      " #   Column       Non-Null Count  Dtype \n",
      "---  ------       --------------  ----- \n",
      " 0   description  5967 non-null   object\n",
      " 1   genre        5967 non-null   object\n",
      "dtypes: object(2)\n",
      "memory usage: 93.4+ KB\n"
     ]
    }
   ],
   "source": [
    "df.info()"
   ]
  },
  {
   "cell_type": "code",
   "execution_count": 17,
   "id": "ultimate-structure",
   "metadata": {},
   "outputs": [
    {
     "name": "stdout",
     "output_type": "stream",
     "text": [
      "{'crime,docuseries,mysteries', 'stand-up comedy & talk,comedies', 'dramas,sci-fi & fantasy,teen', 'dramas,teen', 'dramas,lgbtq', 'comedies,international', 'horror,independent', 'international,korean,dramas', 'children & family', 'action & adventure,comedies,sports', 'children & family,comedies,sports', 'anime,documentaries', 'international,korean,stand-up comedy & talk', \"british,kids',comedies\", 'crime,action & adventure,thrillers', 'action & adventure,anime,horror', 'horror,lgbtq,music & musicals', 'international,thrillers', 'children & family,dramas,sports', 'comedies,romantic', 'comedies,music & musicals,sports', 'comedies,music & musicals', 'comedies,international,sci-fi & fantasy', 'children & family,comedies,music & musicals', 'crime,action & adventure', 'dramas,sci-fi & fantasy', 'action & adventure,dramas,independent', 'comedies,dramas,lgbtq', 'dramas,faith & spirituality,romantic', 'children & family,dramas,independent', \"crime,kids'\", 'dramas,faith & spirituality,international', 'romantic', \"anime,kids',action & adventure\", 'british,docuseries,science & nature', 'action & adventure,sports', 'comedies,dramas,faith & spirituality', 'horror,sci-fi & fantasy', 'documentaries,international', 'dramas,faith & spirituality,independent', 'children & family,comedies,romantic', 'international,spanish-language,comedies', 'comedies,independent,music & musicals', 'anime,international,thrillers', 'reality,comedies,horror', 'docuseries,reality', 'dramas,mysteries,sci-fi & fantasy', 'classic & cult,crime,international', 'docuseries,science & nature,comedies', 'horror,independent,international', 'dramas,mysteries,thrillers', 'comedies,documentaries,international', 'dramas,international,romantic', \"anime,kids'\", 'international,dramas', 'anime,music & musicals', 'international,reality,spanish-language', 'anime,children & family', 'lgbtq,thrillers', 'comedies,dramas,sci-fi & fantasy', 'children & family,comedies,dramas', 'docuseries,international,spanish-language', 'international,romantic,action & adventure', 'comedies,horror,thrillers', 'children & family,classic,comedies', 'international,music & musicals,thrillers', 'crime,dramas,thrillers', 'action & adventure,comedies,romantic', 'crime,comedies,dramas', 'stand-up comedy & talk,mysteries,sci-fi & fantasy', 'horror,international,sci-fi & fantasy', 'dramas,international,sci-fi & fantasy', \"kids',dramas,teen\", 'dramas,music & musicals', 'comedies,dramas,romantic', 'dramas,sports', 'documentaries,sports', 'comedies,sports', 'romantic,spanish-language,comedies', 'anime,international,horror', 'docuseries,spanish-language', 'horror,independent,thrillers', 'action & adventure,dramas,sci-fi & fantasy', 'independent,international,thrillers', 'action & adventure,children & family,comedies', 'international,korean,horror', 'international,reality', 'dramas,independent,sci-fi & fantasy', 'shows', \"kids',reality,science & nature\", 'music & musicals', 'crime,action & adventure,dramas', 'action & adventure,children & family,dramas', 'docuseries,reality,science & nature', 'british,docuseries,comedies', 'romantic,comedies', 'international,comedies,dramas', 'crime,international,korean', 'classic & cult,action & adventure,sci-fi & fantasy', 'documentaries', 'british,docuseries,international', 'british,reality,romantic', 'international,korean,reality', 'comedies,documentaries', \"kids',comedies,sci-fi & fantasy\", 'classic & cult,action & adventure,dramas', 'dramas,independent,lgbtq', 'crime,international,comedies', 'action & adventure,romantic', 'action & adventure,classic', 'action & adventure,independent,international', \"kids',spanish-language,teen\", 'international,comedies,sci-fi & fantasy', 'children & family,comedies,sci-fi & fantasy', 'comedies,horror', 'comedies,music & musicals,romantic', \"kids',comedies,dramas\", 'classic,music & musicals', 'children & family,documentaries', 'classic,dramas,international', 'horror,mysteries,sci-fi & fantasy', 'documentaries,dramas', 'documentaries,faith & spirituality,international', \"kids',comedies\", 'dramas,independent,sports', 'international,romantic,dramas', 'anime,crime,international', 'international,stand-up comedy & talk', 'horror,independent,sci-fi & fantasy', 'comedies,lgbtq,thrillers', 'children & family,comedies', 'anime,romantic,teen', 'cult,documentaries,lgbtq', 'action & adventure,thrillers', 'international,dramas,mysteries', 'action & adventure,comedies,horror', 'international,spanish-language,stand-up comedy & talk', 'anime,international,sci-fi & fantasy', 'docuseries', 'anime,children & family,international', 'action & adventure,comedies,dramas', 'sci-fi & fantasy,thrillers', 'documentaries,international,sports', 'classic & cult,action & adventure,horror', \"crime,kids',comedies\", 'reality,science & nature,action & adventure', 'comedies,lgbtq,music & musicals', 'international,sci-fi & fantasy', 'international,dramas,sci-fi & fantasy', 'international,spanish-language,action & adventure', 'movies', \"docuseries,kids',science & nature\", 'comedies,independent,romantic', 'docuseries,dramas', 'british,classic & cult,comedies', 'action & adventure,children & family,sci-fi & fantasy', 'british,horror,thrillers', 'dramas,music & musicals,romantic', 'docuseries,stand-up comedy & talk', 'dramas,international,music & musicals', 'comedies,dramas,international', 'anime,crime,horror', 'action & adventure,international,sci-fi & fantasy', 'action & adventure,comedies', 'documentaries,horror', 'reality', 'anime,international,teen', 'action & adventure,international,sports', 'international,horror,mysteries', \"kids'\", 'action & adventure,classic,comedies', 'anime,horror,thrillers', 'classic,comedies,independent', 'crime,comedies,teen', 'horror,international', 'documentaries,dramas,international', 'comedies,dramas,independent', 'international,romantic,spanish-language', 'crime,international,reality', \"kids',thrillers\", 'international,korean,romantic', 'independent,thrillers', 'docuseries,international', 'crime,international,spanish-language', 'action & adventure,international,music & musicals', 'british,romantic,dramas', 'classic & cult,dramas,sci-fi & fantasy', 'children & family,dramas,international', 'comedies,horror,independent', 'british,international,stand-up comedy & talk', 'docuseries,sci-fi & fantasy', 'cult,dramas,international', 'comedies,cult', 'international,romantic,teen', 'docuseries,science & nature,action & adventure', 'international,korean,action & adventure', \"kids',action & adventure,comedies\", 'docuseries,comedies', 'action & adventure,anime,international', 'action & adventure,classic,sci-fi & fantasy', 'reality,romantic', 'crime,docuseries,international', 'international,dramas,teen', 'children & family,documentaries,sports', 'comedies,dramas,teen', \"kids',reality,dramas\", 'action & adventure,anime,children & family', 'international,action & adventure,horror', \"british,kids',dramas\", 'action & adventure,horror,sci-fi & fantasy', 'action & adventure,comedies,cult', 'action & adventure,horror', 'action & adventure,sci-fi & fantasy', 'comedies,international,sports', 'action & adventure,international,romantic', 'horror,international,romantic', 'crime,international,sci-fi & fantasy', 'british,crime,docuseries', 'crime,horror,mysteries', 'action & adventure,anime,sci-fi & fantasy', 'action & adventure,independent', \"kids',action & adventure,dramas\", \"kids',action & adventure,sci-fi & fantasy\", 'british,international,romantic', 'anime,music & musicals,sci-fi & fantasy', 'action & adventure,anime,classic', 'dramas,independent,romantic', 'dramas,independent,thrillers', 'children & family,dramas', 'crime,international,romantic', 'british,crime,international', \"international,kids',mysteries\", 'reality,comedies', 'classic,dramas,thrillers', 'international,romantic,thrillers', 'classic,dramas,independent', 'horror,teen', 'crime,spanish-language,action & adventure', 'international,spanish-language,dramas', 'international,romantic,mysteries', 'international,sci-fi & fantasy,thrillers', 'action & adventure,dramas,mysteries', 'cult,horror', 'crime,dramas,mysteries', 'cult,horror,independent', 'horror,thrillers', 'action & adventure,dramas,faith & spirituality', 'cult,dramas,music & musicals', 'action & adventure,classic,cult', 'romantic,comedies,dramas', 'action & adventure,mysteries,sci-fi & fantasy', 'action & adventure,dramas,international', 'international,romantic,sci-fi & fantasy', 'action & adventure,dramas,teen', 'comedies,independent,lgbtq', 'comedies,mysteries', 'action & adventure,dramas,romantic', 'docuseries,international,reality', 'british,docuseries', 'british,comedies', 'comedies,international,music & musicals', 'comedies,dramas,horror', 'action & adventure,children & family,classic', 'music & musicals,romantic', 'action & adventure,comedies,sci-fi & fantasy', 'dramas,international,thrillers', 'dramas,international,sports', 'action & adventure,classic,dramas', 'comedies,faith & spirituality,international', 'music & musicals,stand-up comedy', 'international,romantic,comedies', 'crime,dramas', 'british,crime,dramas', 'dramas,horror,mysteries', 'action & adventure,international', 'crime,international,dramas', 'international,stand-up comedy & talk,comedies', 'comedies,independent,international', 'international,music & musicals', 'british,international,comedies', 'horror,mysteries,thrillers', \"classic & cult,kids',action & adventure\", 'action & adventure,sci-fi & fantasy,sports', 'dramas,international,lgbtq', 'comedies,independent', 'international,reality,romantic', 'international,reality,comedies', 'docuseries,reality,teen', 'reality,science & nature', 'crime,romantic,dramas', 'action & adventure,cult,international', 'children & family,sci-fi & fantasy', 'documentaries,stand-up comedy', 'romantic,dramas,teen', 'crime,spanish-language,dramas', 'children & family,sports', 'children & family,dramas,romantic', 'classic,dramas', 'anime', 'children & family,dramas,music & musicals', 'comedies,cult,independent', 'horror,mysteries,teen', 'action & adventure,dramas', 'documentaries,music & musicals', 'children & family,music & musicals', 'comedies,international,romantic', 'dramas,romantic,sports', 'dramas,independent', 'crime,action & adventure,sci-fi & fantasy', 'international', 'dramas,independent,music & musicals', 'stand-up comedy & talk', 'anime,international,romantic', 'stand-up comedy', 'romantic,teen', 'comedies,sci-fi & fantasy,teen', 'dramas', 'classic,comedies,cult', 'international,action & adventure,mysteries', 'documentaries,faith & spirituality', 'anime,teen', 'crime,international,action & adventure', 'horror', 'classic & cult,comedies', 'romantic,action & adventure,dramas', 'horror,sci-fi & fantasy,thrillers', 'comedies,cult,music & musicals', 'comedies,faith & spirituality,romantic', \"british,kids',thrillers\", 'action & adventure,comedies,independent', \"kids',sci-fi & fantasy\", 'reality,spanish-language', 'comedies,sci-fi & fantasy', 'children & family,comedies,lgbtq', 'comedies,dramas', 'action & adventure,cult,sci-fi & fantasy', 'british,classic & cult,international', 'romantic,dramas', 'crime,international,thrillers', 'children & family,dramas,faith & spirituality', 'documentaries,lgbtq', 'dramas,horror,sci-fi & fantasy', 'crime,docuseries', \"kids',comedies,teen\", 'dramas,romantic,thrillers', 'reality,action & adventure,mysteries', 'british,international,reality', 'dramas,international', 'international,music & musicals,romantic', \"british,kids'\", 'crime,docuseries,science & nature', 'reality,horror,thrillers', 'international,korean,comedies', 'international,mysteries,thrillers', 'international,spanish-language,horror', 'comedies', 'anime,international', 'spanish-language,dramas', 'comedies,dramas,mysteries', 'action & adventure,dramas,horror', \"british,classic & cult,kids'\", 'reality,teen', 'international,action & adventure,sci-fi & fantasy', 'dramas,independent,international', 'international,action & adventure,comedies', 'horror,international,thrillers', 'british,international,dramas', \"kids',dramas\", 'international,action & adventure,dramas', 'comedies,romantic,sports', 'anime,international,spanish-language', 'horror,lgbtq', 'classic,cult,dramas', 'docuseries,science & nature', 'horror,romantic,sci-fi & fantasy', \"kids',spanish-language\", 'british,international,action & adventure', 'international,romantic', 'international,dramas,horror', 'comedies,international,lgbtq', 'british,reality', 'dramas,sci-fi & fantasy,thrillers', 'international,comedies', 'comedies,international,thrillers', 'children & family,comedies,cult', 'documentaries,international,lgbtq', 'action & adventure', 'action & adventure,independent,sci-fi & fantasy', 'international,dramas,thrillers', \"kids',korean,comedies\", 'crime,action & adventure,comedies', 'anime,romantic', 'dramas,faith & spirituality', 'action & adventure,dramas,sports', 'comedies,dramas,music & musicals', 'crime,international,mysteries', 'thrillers', 'children & family,comedies,international', 'romantic,dramas,sci-fi & fantasy', 'children & family,faith & spirituality,music & musicals', \"kids',action & adventure\", \"kids',korean\", 'dramas,thrillers', 'international,horror,sci-fi & fantasy', 'comedies,cult,horror', 'comedies,horror,international', 'dramas,romantic', 'action & adventure,comedies,international', 'dramas,romantic,sci-fi & fantasy', 'independent,sci-fi & fantasy,thrillers', 'documentaries,international,music & musicals', 'docuseries,international,science & nature', 'anime,crime', 'children & family,documentaries,international', 'comedies,teen', 'dramas,lgbtq,romantic'} 416\n"
     ]
    }
   ],
   "source": [
    "master_list = []\n",
    "\n",
    "for text in set(df.genre.to_list()):\n",
    "    \n",
    "    value_genres = text.split(', ')\n",
    "    \n",
    "    for item in value_genres:\n",
    "        \n",
    "        master_list.append(item)\n",
    "        \n",
    "print(set(master_list), len(set(master_list)))"
   ]
  },
  {
   "cell_type": "code",
   "execution_count": 18,
   "id": "exposed-communist",
   "metadata": {},
   "outputs": [],
   "source": [
    "def get_genre_list(value):\n",
    "    '''takes in string list of genes from a pandas column\n",
    "       creates a python list of those genres\n",
    "       returns a python list of those geres that are not in the cut list'''\n",
    "    \n",
    "    cut_list = ['international', \n",
    "                'teen', \n",
    "                'korean', \n",
    "                'anime', \n",
    "                'classic & cult', \n",
    "                \"kids'\", \n",
    "                'cult', \n",
    "                'movies', \n",
    "                'shows',\n",
    "                'spanish-language', \n",
    "                'british', \n",
    "                'children & family', \n",
    "                'anime series',\n",
    "                'lgbtq',\n",
    "                'classic', \n",
    "                'international',\n",
    "                'independent',\n",
    "                'sci-fi & fantasy',\n",
    "                'sports',\n",
    "                'faith & spirituality',\n",
    "                'stand-up comedy & talk',\n",
    "                'mysteries']\n",
    "    \n",
    "    genre_list = value.split(',')\n",
    "    genre_list = [genre.strip() for genre in genre_list]\n",
    "    \n",
    "    return [genre for genre in genre_list if genre not in cut_list]"
   ]
  },
  {
   "cell_type": "code",
   "execution_count": 19,
   "id": "disabled-religious",
   "metadata": {},
   "outputs": [
    {
     "data": {
      "text/html": [
       "<div>\n",
       "<style scoped>\n",
       "    .dataframe tbody tr th:only-of-type {\n",
       "        vertical-align: middle;\n",
       "    }\n",
       "\n",
       "    .dataframe tbody tr th {\n",
       "        vertical-align: top;\n",
       "    }\n",
       "\n",
       "    .dataframe thead th {\n",
       "        text-align: right;\n",
       "    }\n",
       "</style>\n",
       "<table border=\"1\" class=\"dataframe\">\n",
       "  <thead>\n",
       "    <tr style=\"text-align: right;\">\n",
       "      <th></th>\n",
       "      <th>description</th>\n",
       "      <th>genre</th>\n",
       "      <th>genre_list</th>\n",
       "    </tr>\n",
       "  </thead>\n",
       "  <tbody>\n",
       "    <tr>\n",
       "      <th>0</th>\n",
       "      <td>docuseries take deep dive lucrative wellness i...</td>\n",
       "      <td>reality</td>\n",
       "      <td>[reality]</td>\n",
       "    </tr>\n",
       "    <tr>\n",
       "      <th>1</th>\n",
       "      <td>grisly virus rampage city lone man stay locked...</td>\n",
       "      <td>horror,international,thrillers</td>\n",
       "      <td>[horror, thrillers]</td>\n",
       "    </tr>\n",
       "    <tr>\n",
       "      <th>2</th>\n",
       "      <td>diary anne frank story retold alongside five h...</td>\n",
       "      <td>documentaries,international</td>\n",
       "      <td>[documentaries]</td>\n",
       "    </tr>\n",
       "    <tr>\n",
       "      <th>3</th>\n",
       "      <td>kenya barris family navigate relationship race...</td>\n",
       "      <td>comedies</td>\n",
       "      <td>[comedies]</td>\n",
       "    </tr>\n",
       "    <tr>\n",
       "      <th>4</th>\n",
       "      <td>pawesome documentary explores feline friend be...</td>\n",
       "      <td>documentaries,international</td>\n",
       "      <td>[documentaries]</td>\n",
       "    </tr>\n",
       "  </tbody>\n",
       "</table>\n",
       "</div>"
      ],
      "text/plain": [
       "                                         description  \\\n",
       "0  docuseries take deep dive lucrative wellness i...   \n",
       "1  grisly virus rampage city lone man stay locked...   \n",
       "2  diary anne frank story retold alongside five h...   \n",
       "3  kenya barris family navigate relationship race...   \n",
       "4  pawesome documentary explores feline friend be...   \n",
       "\n",
       "                            genre           genre_list  \n",
       "0                         reality            [reality]  \n",
       "1  horror,international,thrillers  [horror, thrillers]  \n",
       "2     documentaries,international      [documentaries]  \n",
       "3                        comedies           [comedies]  \n",
       "4     documentaries,international      [documentaries]  "
      ]
     },
     "execution_count": 19,
     "metadata": {},
     "output_type": "execute_result"
    }
   ],
   "source": [
    "df['genre_list'] = df['genre'].apply(lambda value: get_genre_list(value))\n",
    "\n",
    "df.head()"
   ]
  },
  {
   "cell_type": "code",
   "execution_count": 20,
   "id": "original-renaissance",
   "metadata": {},
   "outputs": [
    {
     "name": "stdout",
     "output_type": "stream",
     "text": [
      "(5967, 3)\n",
      "(5472, 3)\n"
     ]
    }
   ],
   "source": [
    "# drop rows with empty lists looses 469 rows\n",
    "print(df.shape)\n",
    "df = df[df['genre_list'].map(lambda d: len(d)) > 0]\n",
    "print(df.shape)"
   ]
  },
  {
   "cell_type": "code",
   "execution_count": 21,
   "id": "occupational-donna",
   "metadata": {},
   "outputs": [],
   "source": [
    "def merge_genres(value, merge_list, replacement):\n",
    "    '''Take in a pandas value that is a list of genres\n",
    "       a merge list and a replacement string\n",
    "       If one of the genres is in merge_list \n",
    "       return list containing replacement string\n",
    "       otherwise return original list'''\n",
    "\n",
    "    # builds list of genres from value matching merge_list\n",
    "    check_list = [genre for genre in value if genre in merge_list]\n",
    "\n",
    "    # if check_list is not empty return list with just documentary\n",
    "    if len(check_list) > 0:\n",
    "        \n",
    "        return [replacement]\n",
    "    \n",
    "    # otherwise return original list\n",
    "    else:\n",
    "        \n",
    "        return value"
   ]
  },
  {
   "cell_type": "code",
   "execution_count": 22,
   "id": "ready-cambodia",
   "metadata": {},
   "outputs": [
    {
     "data": {
      "text/html": [
       "<div>\n",
       "<style scoped>\n",
       "    .dataframe tbody tr th:only-of-type {\n",
       "        vertical-align: middle;\n",
       "    }\n",
       "\n",
       "    .dataframe tbody tr th {\n",
       "        vertical-align: top;\n",
       "    }\n",
       "\n",
       "    .dataframe thead th {\n",
       "        text-align: right;\n",
       "    }\n",
       "</style>\n",
       "<table border=\"1\" class=\"dataframe\">\n",
       "  <thead>\n",
       "    <tr style=\"text-align: right;\">\n",
       "      <th></th>\n",
       "      <th>description</th>\n",
       "      <th>genre</th>\n",
       "      <th>genre_list</th>\n",
       "    </tr>\n",
       "  </thead>\n",
       "  <tbody>\n",
       "    <tr>\n",
       "      <th>0</th>\n",
       "      <td>docuseries take deep dive lucrative wellness i...</td>\n",
       "      <td>reality</td>\n",
       "      <td>[reality]</td>\n",
       "    </tr>\n",
       "    <tr>\n",
       "      <th>1</th>\n",
       "      <td>grisly virus rampage city lone man stay locked...</td>\n",
       "      <td>horror,international,thrillers</td>\n",
       "      <td>[horror, thrillers]</td>\n",
       "    </tr>\n",
       "    <tr>\n",
       "      <th>2</th>\n",
       "      <td>diary anne frank story retold alongside five h...</td>\n",
       "      <td>documentaries,international</td>\n",
       "      <td>[documentaries]</td>\n",
       "    </tr>\n",
       "    <tr>\n",
       "      <th>3</th>\n",
       "      <td>kenya barris family navigate relationship race...</td>\n",
       "      <td>comedies</td>\n",
       "      <td>[comedies]</td>\n",
       "    </tr>\n",
       "    <tr>\n",
       "      <th>4</th>\n",
       "      <td>pawesome documentary explores feline friend be...</td>\n",
       "      <td>documentaries,international</td>\n",
       "      <td>[documentaries]</td>\n",
       "    </tr>\n",
       "  </tbody>\n",
       "</table>\n",
       "</div>"
      ],
      "text/plain": [
       "                                         description  \\\n",
       "0  docuseries take deep dive lucrative wellness i...   \n",
       "1  grisly virus rampage city lone man stay locked...   \n",
       "2  diary anne frank story retold alongside five h...   \n",
       "3  kenya barris family navigate relationship race...   \n",
       "4  pawesome documentary explores feline friend be...   \n",
       "\n",
       "                            genre           genre_list  \n",
       "0                         reality            [reality]  \n",
       "1  horror,international,thrillers  [horror, thrillers]  \n",
       "2     documentaries,international      [documentaries]  \n",
       "3                        comedies           [comedies]  \n",
       "4     documentaries,international      [documentaries]  "
      ]
     },
     "execution_count": 22,
     "metadata": {},
     "output_type": "execute_result"
    }
   ],
   "source": [
    "merge_list = ['docuseries', 'documentary', 'documentaries']\n",
    "df['genre_list'] = df['genre_list'].apply(lambda value: merge_genres(value,merge_list,'documentaries'))\n",
    "\n",
    "df.head()"
   ]
  },
  {
   "cell_type": "code",
   "execution_count": 23,
   "id": "olive-appliance",
   "metadata": {},
   "outputs": [
    {
     "ename": "TypeError",
     "evalue": "unhashable type: 'list'",
     "output_type": "error",
     "traceback": [
      "\u001b[0;31m---------------------------------------------------------------------------\u001b[0m",
      "\u001b[0;31mTypeError\u001b[0m                                 Traceback (most recent call last)",
      "\u001b[0;32mpandas/_libs/hashtable_class_helper.pxi\u001b[0m in \u001b[0;36mpandas._libs.hashtable.PyObjectHashTable.map_locations\u001b[0;34m()\u001b[0m\n",
      "\u001b[0;31mTypeError\u001b[0m: unhashable type: 'list'"
     ]
    },
    {
     "name": "stderr",
     "output_type": "stream",
     "text": [
      "Exception ignored in: 'pandas._libs.index.IndexEngine._call_map_locations'\n",
      "Traceback (most recent call last):\n",
      "  File \"pandas/_libs/hashtable_class_helper.pxi\", line 4588, in pandas._libs.hashtable.PyObjectHashTable.map_locations\n",
      "TypeError: unhashable type: 'list'\n"
     ]
    },
    {
     "data": {
      "text/plain": [
       "[dramas]                                  903\n",
       "[documentaries]                           740\n",
       "[comedies]                                656\n",
       "[comedies, dramas]                        391\n",
       "[stand-up comedy]                         320\n",
       "[action & adventure]                      286\n",
       "[dramas, romantic]                        198\n",
       "[dramas, thrillers]                       180\n",
       "[comedies, romantic]                      169\n",
       "[action & adventure, dramas]              165\n",
       "[reality]                                 161\n",
       "[crime, dramas]                           128\n",
       "[thrillers]                               123\n",
       "[romantic]                                117\n",
       "[horror]                                  113\n",
       "[crime]                                   109\n",
       "[action & adventure, comedies]             99\n",
       "[romantic, comedies]                       81\n",
       "[romantic, dramas]                         80\n",
       "[horror, thrillers]                        65\n",
       "[comedies, music & musicals]               63\n",
       "[dramas, music & musicals]                 51\n",
       "[music & musicals]                         37\n",
       "[comedies, horror]                         27\n",
       "[action & adventure, comedies, dramas]     22\n",
       "[dramas, horror]                           21\n",
       "[crime, action & adventure]                19\n",
       "[action & adventure, horror]               16\n",
       "[romantic, comedies, dramas]               12\n",
       "[crime, comedies]                          11\n",
       "Name: genre_list, dtype: int64"
      ]
     },
     "execution_count": 23,
     "metadata": {},
     "output_type": "execute_result"
    }
   ],
   "source": [
    "merge_list = ['reality']\n",
    "df['genre_list'] = df['genre_list'].apply(lambda value: merge_genres(value,merge_list,'reality'))\n",
    "\n",
    "df.genre_list.value_counts().head(30)"
   ]
  },
  {
   "cell_type": "code",
   "execution_count": 24,
   "id": "requested-tamil",
   "metadata": {},
   "outputs": [
    {
     "ename": "TypeError",
     "evalue": "unhashable type: 'list'",
     "output_type": "error",
     "traceback": [
      "\u001b[0;31m---------------------------------------------------------------------------\u001b[0m",
      "\u001b[0;31mTypeError\u001b[0m                                 Traceback (most recent call last)",
      "\u001b[0;32mpandas/_libs/hashtable_class_helper.pxi\u001b[0m in \u001b[0;36mpandas._libs.hashtable.PyObjectHashTable.map_locations\u001b[0;34m()\u001b[0m\n",
      "\u001b[0;31mTypeError\u001b[0m: unhashable type: 'list'"
     ]
    },
    {
     "name": "stderr",
     "output_type": "stream",
     "text": [
      "Exception ignored in: 'pandas._libs.index.IndexEngine._call_map_locations'\n",
      "Traceback (most recent call last):\n",
      "  File \"pandas/_libs/hashtable_class_helper.pxi\", line 4588, in pandas._libs.hashtable.PyObjectHashTable.map_locations\n",
      "TypeError: unhashable type: 'list'\n"
     ]
    },
    {
     "data": {
      "text/plain": [
       "[dramas]                                  903\n",
       "[documentaries]                           740\n",
       "[comedies]                                656\n",
       "[comedies, dramas]                        391\n",
       "[stand-up comedy]                         320\n",
       "[action & adventure]                      286\n",
       "[dramas, romantic]                        198\n",
       "[music & musicals]                        181\n",
       "[dramas, thrillers]                       180\n",
       "[comedies, romantic]                      169\n",
       "[action & adventure, dramas]              165\n",
       "[reality]                                 161\n",
       "[crime, dramas]                           128\n",
       "[thrillers]                               123\n",
       "[romantic]                                117\n",
       "[horror]                                  113\n",
       "[crime]                                   109\n",
       "[action & adventure, comedies]             99\n",
       "[romantic, comedies]                       81\n",
       "[romantic, dramas]                         80\n",
       "[horror, thrillers]                        65\n",
       "[comedies, horror]                         27\n",
       "[action & adventure, comedies, dramas]     22\n",
       "[dramas, horror]                           21\n",
       "[crime, action & adventure]                19\n",
       "[action & adventure, horror]               16\n",
       "[romantic, comedies, dramas]               12\n",
       "[crime, comedies]                          11\n",
       "[crime, action & adventure, dramas]        10\n",
       "[comedies, dramas, romantic]                8\n",
       "Name: genre_list, dtype: int64"
      ]
     },
     "execution_count": 24,
     "metadata": {},
     "output_type": "execute_result"
    }
   ],
   "source": [
    "merge_list = ['music & musicals']\n",
    "df['genre_list'] = df['genre_list'].apply(lambda value: merge_genres(value,merge_list,'music & musicals'))\n",
    "\n",
    "df.genre_list.value_counts().head(30)"
   ]
  },
  {
   "cell_type": "code",
   "execution_count": 25,
   "id": "adjusted-sally",
   "metadata": {},
   "outputs": [
    {
     "ename": "TypeError",
     "evalue": "unhashable type: 'list'",
     "output_type": "error",
     "traceback": [
      "\u001b[0;31m---------------------------------------------------------------------------\u001b[0m",
      "\u001b[0;31mTypeError\u001b[0m                                 Traceback (most recent call last)",
      "\u001b[0;32mpandas/_libs/hashtable_class_helper.pxi\u001b[0m in \u001b[0;36mpandas._libs.hashtable.PyObjectHashTable.map_locations\u001b[0;34m()\u001b[0m\n",
      "\u001b[0;31mTypeError\u001b[0m: unhashable type: 'list'"
     ]
    },
    {
     "name": "stderr",
     "output_type": "stream",
     "text": [
      "Exception ignored in: 'pandas._libs.index.IndexEngine._call_map_locations'\n",
      "Traceback (most recent call last):\n",
      "  File \"pandas/_libs/hashtable_class_helper.pxi\", line 4588, in pandas._libs.hashtable.PyObjectHashTable.map_locations\n",
      "TypeError: unhashable type: 'list'\n"
     ]
    },
    {
     "data": {
      "text/plain": [
       "[dramas]                                  903\n",
       "[documentaries]                           740\n",
       "[comedies]                                656\n",
       "[comedies, dramas]                        391\n",
       "[stand-up comedy]                         320\n",
       "[crime]                                   302\n",
       "[action & adventure]                      286\n",
       "[dramas, romantic]                        198\n",
       "[music & musicals]                        181\n",
       "[dramas, thrillers]                       180\n",
       "[comedies, romantic]                      169\n",
       "[action & adventure, dramas]              165\n",
       "[reality]                                 161\n",
       "[thrillers]                               123\n",
       "[romantic]                                117\n",
       "[horror]                                  113\n",
       "[action & adventure, comedies]             99\n",
       "[romantic, comedies]                       81\n",
       "[romantic, dramas]                         80\n",
       "[horror, thrillers]                        65\n",
       "[comedies, horror]                         27\n",
       "[action & adventure, comedies, dramas]     22\n",
       "[dramas, horror]                           21\n",
       "[action & adventure, horror]               16\n",
       "[romantic, comedies, dramas]               12\n",
       "[comedies, dramas, romantic]                8\n",
       "[action & adventure, romantic]              6\n",
       "[comedies, thrillers]                       4\n",
       "[romantic, action & adventure]              3\n",
       "[action & adventure, dramas, horror]        3\n",
       "Name: genre_list, dtype: int64"
      ]
     },
     "execution_count": 25,
     "metadata": {},
     "output_type": "execute_result"
    }
   ],
   "source": [
    "merge_list = ['crime']\n",
    "df['genre_list'] = df['genre_list'].apply(lambda value: merge_genres(value,merge_list,'crime'))\n",
    "\n",
    "df.genre_list.value_counts().head(30)"
   ]
  },
  {
   "cell_type": "code",
   "execution_count": 26,
   "id": "outdoor-organizer",
   "metadata": {},
   "outputs": [],
   "source": [
    "def fuse_genre(value, fuse_list, replacement):\n",
    "    \n",
    "    # builds list of genres from value matching fuse_list\n",
    "    check_list = [genre for genre in value if genre in fuse_list]\n",
    "\n",
    "    # if the length of check_list is equal to the length of value return replacement \n",
    "    if (len(check_list) == len(value)) and (len(value) == 2):\n",
    "        \n",
    "        return [replacement]\n",
    "    \n",
    "    # otherwise return original list\n",
    "    else:\n",
    "        \n",
    "        return value"
   ]
  },
  {
   "cell_type": "code",
   "execution_count": 27,
   "id": "beginning-metadata",
   "metadata": {},
   "outputs": [
    {
     "ename": "TypeError",
     "evalue": "unhashable type: 'list'",
     "output_type": "error",
     "traceback": [
      "\u001b[0;31m---------------------------------------------------------------------------\u001b[0m",
      "\u001b[0;31mTypeError\u001b[0m                                 Traceback (most recent call last)",
      "\u001b[0;32mpandas/_libs/hashtable_class_helper.pxi\u001b[0m in \u001b[0;36mpandas._libs.hashtable.PyObjectHashTable.map_locations\u001b[0;34m()\u001b[0m\n",
      "\u001b[0;31mTypeError\u001b[0m: unhashable type: 'list'"
     ]
    },
    {
     "name": "stderr",
     "output_type": "stream",
     "text": [
      "Exception ignored in: 'pandas._libs.index.IndexEngine._call_map_locations'\n",
      "Traceback (most recent call last):\n",
      "  File \"pandas/_libs/hashtable_class_helper.pxi\", line 4588, in pandas._libs.hashtable.PyObjectHashTable.map_locations\n",
      "TypeError: unhashable type: 'list'\n"
     ]
    },
    {
     "data": {
      "text/plain": [
       "[dramas]                                  903\n",
       "[documentaries]                           740\n",
       "[comedies]                                656\n",
       "[comedies, dramas]                        391\n",
       "[stand-up comedy]                         320\n",
       "[crime]                                   302\n",
       "[action & adventure]                      286\n",
       "[romantic comedies]                       250\n",
       "[dramas, romantic]                        198\n",
       "[music & musicals]                        181\n",
       "[dramas, thrillers]                       180\n",
       "[action & adventure, dramas]              165\n",
       "[reality]                                 161\n",
       "[thrillers]                               123\n",
       "[romantic]                                117\n",
       "[horror]                                  113\n",
       "[action & adventure, comedies]             99\n",
       "[romantic, dramas]                         80\n",
       "[horror, thrillers]                        65\n",
       "[comedies, horror]                         27\n",
       "[action & adventure, comedies, dramas]     22\n",
       "[dramas, horror]                           21\n",
       "[action & adventure, horror]               16\n",
       "[romantic, comedies, dramas]               12\n",
       "[comedies, dramas, romantic]                8\n",
       "[action & adventure, romantic]              6\n",
       "[comedies, thrillers]                       4\n",
       "[action & adventure, comedies, horror]      3\n",
       "[horror, romantic]                          3\n",
       "[action & adventure, thrillers]             3\n",
       "Name: genre_list, dtype: int64"
      ]
     },
     "execution_count": 27,
     "metadata": {},
     "output_type": "execute_result"
    }
   ],
   "source": [
    "df['genre_list'] = df['genre_list'].apply(lambda value: fuse_genre(value, ['romantic', 'comedies'], 'romantic comedies'))\n",
    "\n",
    "df.genre_list.value_counts().head(30)"
   ]
  },
  {
   "cell_type": "code",
   "execution_count": 28,
   "id": "ruled-great",
   "metadata": {},
   "outputs": [
    {
     "ename": "TypeError",
     "evalue": "unhashable type: 'list'",
     "output_type": "error",
     "traceback": [
      "\u001b[0;31m---------------------------------------------------------------------------\u001b[0m",
      "\u001b[0;31mTypeError\u001b[0m                                 Traceback (most recent call last)",
      "\u001b[0;32mpandas/_libs/hashtable_class_helper.pxi\u001b[0m in \u001b[0;36mpandas._libs.hashtable.PyObjectHashTable.map_locations\u001b[0;34m()\u001b[0m\n",
      "\u001b[0;31mTypeError\u001b[0m: unhashable type: 'list'"
     ]
    },
    {
     "name": "stderr",
     "output_type": "stream",
     "text": [
      "Exception ignored in: 'pandas._libs.index.IndexEngine._call_map_locations'\n",
      "Traceback (most recent call last):\n",
      "  File \"pandas/_libs/hashtable_class_helper.pxi\", line 4588, in pandas._libs.hashtable.PyObjectHashTable.map_locations\n",
      "TypeError: unhashable type: 'list'\n"
     ]
    },
    {
     "data": {
      "text/plain": [
       "[dramas]                                  903\n",
       "[documentaries]                           740\n",
       "[comedies]                                656\n",
       "[dramatic comedies]                       391\n",
       "[stand-up comedy]                         320\n",
       "[crime]                                   302\n",
       "[action & adventure]                      286\n",
       "[romantic comedies]                       250\n",
       "[dramas, romantic]                        198\n",
       "[music & musicals]                        181\n",
       "[dramas, thrillers]                       180\n",
       "[action & adventure, dramas]              165\n",
       "[reality]                                 161\n",
       "[thrillers]                               123\n",
       "[romantic]                                117\n",
       "[horror]                                  113\n",
       "[action & adventure, comedies]             99\n",
       "[romantic, dramas]                         80\n",
       "[horror, thrillers]                        65\n",
       "[comedies, horror]                         27\n",
       "[action & adventure, comedies, dramas]     22\n",
       "[dramas, horror]                           21\n",
       "[action & adventure, horror]               16\n",
       "[romantic, comedies, dramas]               12\n",
       "[comedies, dramas, romantic]                8\n",
       "[action & adventure, romantic]              6\n",
       "[comedies, thrillers]                       4\n",
       "[action & adventure, comedies, horror]      3\n",
       "[horror, romantic]                          3\n",
       "[action & adventure, thrillers]             3\n",
       "Name: genre_list, dtype: int64"
      ]
     },
     "execution_count": 28,
     "metadata": {},
     "output_type": "execute_result"
    }
   ],
   "source": [
    "df['genre_list'] = df['genre_list'].apply(lambda value: fuse_genre(value, ['comedies', 'dramas'], 'dramatic comedies'))\n",
    "\n",
    "df.genre_list.value_counts().head(30)"
   ]
  },
  {
   "cell_type": "code",
   "execution_count": 29,
   "id": "romantic-subject",
   "metadata": {},
   "outputs": [
    {
     "ename": "TypeError",
     "evalue": "unhashable type: 'list'",
     "output_type": "error",
     "traceback": [
      "\u001b[0;31m---------------------------------------------------------------------------\u001b[0m",
      "\u001b[0;31mTypeError\u001b[0m                                 Traceback (most recent call last)",
      "\u001b[0;32mpandas/_libs/hashtable_class_helper.pxi\u001b[0m in \u001b[0;36mpandas._libs.hashtable.PyObjectHashTable.map_locations\u001b[0;34m()\u001b[0m\n",
      "\u001b[0;31mTypeError\u001b[0m: unhashable type: 'list'"
     ]
    },
    {
     "name": "stderr",
     "output_type": "stream",
     "text": [
      "Exception ignored in: 'pandas._libs.index.IndexEngine._call_map_locations'\n",
      "Traceback (most recent call last):\n",
      "  File \"pandas/_libs/hashtable_class_helper.pxi\", line 4588, in pandas._libs.hashtable.PyObjectHashTable.map_locations\n",
      "TypeError: unhashable type: 'list'\n"
     ]
    },
    {
     "data": {
      "text/plain": [
       "[dramas]                                  903\n",
       "[documentaries]                           740\n",
       "[comedies]                                656\n",
       "[romantic]                                395\n",
       "[dramatic comedies]                       391\n",
       "[stand-up comedy]                         320\n",
       "[crime]                                   302\n",
       "[action & adventure]                      286\n",
       "[romantic comedies]                       250\n",
       "[music & musicals]                        181\n",
       "[dramas, thrillers]                       180\n",
       "[action & adventure, dramas]              165\n",
       "[reality]                                 161\n",
       "[thrillers]                               123\n",
       "[horror]                                  113\n",
       "[action & adventure, comedies]             99\n",
       "[horror, thrillers]                        65\n",
       "[comedies, horror]                         27\n",
       "[action & adventure, comedies, dramas]     22\n",
       "[dramas, horror]                           21\n",
       "[action & adventure, horror]               16\n",
       "[romantic, comedies, dramas]               12\n",
       "[comedies, dramas, romantic]                8\n",
       "[action & adventure, romantic]              6\n",
       "[comedies, thrillers]                       4\n",
       "[action & adventure, thrillers]             3\n",
       "[romantic, action & adventure]              3\n",
       "[action & adventure, dramas, horror]        3\n",
       "[horror, romantic]                          3\n",
       "[action & adventure, comedies, horror]      3\n",
       "Name: genre_list, dtype: int64"
      ]
     },
     "execution_count": 29,
     "metadata": {},
     "output_type": "execute_result"
    }
   ],
   "source": [
    "df['genre_list'] = df['genre_list'].apply(lambda value: fuse_genre(value, ['dramas', 'romantic'], 'romantic'))\n",
    "\n",
    "df.genre_list.value_counts().head(30)"
   ]
  },
  {
   "cell_type": "code",
   "execution_count": 30,
   "id": "coastal-display",
   "metadata": {},
   "outputs": [
    {
     "ename": "TypeError",
     "evalue": "unhashable type: 'list'",
     "output_type": "error",
     "traceback": [
      "\u001b[0;31m---------------------------------------------------------------------------\u001b[0m",
      "\u001b[0;31mTypeError\u001b[0m                                 Traceback (most recent call last)",
      "\u001b[0;32mpandas/_libs/hashtable_class_helper.pxi\u001b[0m in \u001b[0;36mpandas._libs.hashtable.PyObjectHashTable.map_locations\u001b[0;34m()\u001b[0m\n",
      "\u001b[0;31mTypeError\u001b[0m: unhashable type: 'list'"
     ]
    },
    {
     "name": "stderr",
     "output_type": "stream",
     "text": [
      "Exception ignored in: 'pandas._libs.index.IndexEngine._call_map_locations'\n",
      "Traceback (most recent call last):\n",
      "  File \"pandas/_libs/hashtable_class_helper.pxi\", line 4588, in pandas._libs.hashtable.PyObjectHashTable.map_locations\n",
      "TypeError: unhashable type: 'list'\n"
     ]
    },
    {
     "data": {
      "text/plain": [
       "[dramas]                                    903\n",
       "[documentaries]                             740\n",
       "[comedies]                                  656\n",
       "[romantic]                                  395\n",
       "[dramatic comedies]                         391\n",
       "[stand-up comedy]                           320\n",
       "[thrillers]                                 303\n",
       "[crime]                                     302\n",
       "[action & adventure]                        286\n",
       "[romantic comedies]                         250\n",
       "[music & musicals]                          181\n",
       "[action & adventure, dramas]                165\n",
       "[reality]                                   161\n",
       "[horror]                                    113\n",
       "[action & adventure, comedies]               99\n",
       "[horror, thrillers]                          65\n",
       "[comedies, horror]                           27\n",
       "[action & adventure, comedies, dramas]       22\n",
       "[dramas, horror]                             21\n",
       "[action & adventure, horror]                 16\n",
       "[romantic, comedies, dramas]                 12\n",
       "[comedies, dramas, romantic]                  8\n",
       "[action & adventure, romantic]                6\n",
       "[comedies, thrillers]                         4\n",
       "[action & adventure, comedies, horror]        3\n",
       "[action & adventure, thrillers]               3\n",
       "[horror, romantic]                            3\n",
       "[romantic, action & adventure]                3\n",
       "[action & adventure, dramas, horror]          3\n",
       "[action & adventure, comedies, romantic]      2\n",
       "Name: genre_list, dtype: int64"
      ]
     },
     "execution_count": 30,
     "metadata": {},
     "output_type": "execute_result"
    }
   ],
   "source": [
    "df['genre_list'] = df['genre_list'].apply(lambda value: fuse_genre(value, ['dramas', 'thrillers']  , 'thrillers'))\n",
    "\n",
    "df.genre_list.value_counts().head(30)"
   ]
  },
  {
   "cell_type": "code",
   "execution_count": 31,
   "id": "modular-suspension",
   "metadata": {},
   "outputs": [
    {
     "ename": "TypeError",
     "evalue": "unhashable type: 'list'",
     "output_type": "error",
     "traceback": [
      "\u001b[0;31m---------------------------------------------------------------------------\u001b[0m",
      "\u001b[0;31mTypeError\u001b[0m                                 Traceback (most recent call last)",
      "\u001b[0;32mpandas/_libs/hashtable_class_helper.pxi\u001b[0m in \u001b[0;36mpandas._libs.hashtable.PyObjectHashTable.map_locations\u001b[0;34m()\u001b[0m\n",
      "\u001b[0;31mTypeError\u001b[0m: unhashable type: 'list'"
     ]
    },
    {
     "name": "stderr",
     "output_type": "stream",
     "text": [
      "Exception ignored in: 'pandas._libs.index.IndexEngine._call_map_locations'\n",
      "Traceback (most recent call last):\n",
      "  File \"pandas/_libs/hashtable_class_helper.pxi\", line 4588, in pandas._libs.hashtable.PyObjectHashTable.map_locations\n",
      "TypeError: unhashable type: 'list'\n"
     ]
    },
    {
     "data": {
      "text/plain": [
       "[dramas]                                  903\n",
       "[documentaries]                           740\n",
       "[comedies]                                656\n",
       "[thrillers]                               468\n",
       "[romantic]                                395\n",
       "[dramatic comedies]                       391\n",
       "[stand-up comedy]                         320\n",
       "[crime]                                   302\n",
       "[action & adventure]                      286\n",
       "[romantic comedies]                       250\n",
       "[music & musicals]                        181\n",
       "[reality]                                 161\n",
       "[horror]                                  113\n",
       "[action & adventure, comedies]             99\n",
       "[horror, thrillers]                        65\n",
       "[comedies, horror]                         27\n",
       "[action & adventure, comedies, dramas]     22\n",
       "[dramas, horror]                           21\n",
       "[action & adventure, horror]               16\n",
       "[romantic, comedies, dramas]               12\n",
       "[comedies, dramas, romantic]                8\n",
       "[action & adventure, romantic]              6\n",
       "[comedies, thrillers]                       4\n",
       "[action & adventure, dramas, horror]        3\n",
       "[romantic, action & adventure]              3\n",
       "[action & adventure, comedies, horror]      3\n",
       "[action & adventure, thrillers]             3\n",
       "[horror, romantic]                          3\n",
       "[dramas, romantic, thrillers]               2\n",
       "[romantic, thrillers]                       2\n",
       "Name: genre_list, dtype: int64"
      ]
     },
     "execution_count": 31,
     "metadata": {},
     "output_type": "execute_result"
    }
   ],
   "source": [
    "df['genre_list'] = df['genre_list'].apply(lambda value: fuse_genre(value, ['action & adventure', 'dramas']  , 'thrillers'))\n",
    "\n",
    "df.genre_list.value_counts().head(30)"
   ]
  },
  {
   "cell_type": "code",
   "execution_count": 32,
   "id": "stopped-suspect",
   "metadata": {},
   "outputs": [
    {
     "ename": "TypeError",
     "evalue": "unhashable type: 'list'",
     "output_type": "error",
     "traceback": [
      "\u001b[0;31m---------------------------------------------------------------------------\u001b[0m",
      "\u001b[0;31mTypeError\u001b[0m                                 Traceback (most recent call last)",
      "\u001b[0;32mpandas/_libs/hashtable_class_helper.pxi\u001b[0m in \u001b[0;36mpandas._libs.hashtable.PyObjectHashTable.map_locations\u001b[0;34m()\u001b[0m\n",
      "\u001b[0;31mTypeError\u001b[0m: unhashable type: 'list'"
     ]
    },
    {
     "name": "stderr",
     "output_type": "stream",
     "text": [
      "Exception ignored in: 'pandas._libs.index.IndexEngine._call_map_locations'\n",
      "Traceback (most recent call last):\n",
      "  File \"pandas/_libs/hashtable_class_helper.pxi\", line 4588, in pandas._libs.hashtable.PyObjectHashTable.map_locations\n",
      "TypeError: unhashable type: 'list'\n"
     ]
    },
    {
     "data": {
      "text/plain": [
       "[dramas]                                    903\n",
       "[documentaries]                             740\n",
       "[comedies]                                  656\n",
       "[thrillers]                                 468\n",
       "[romantic]                                  395\n",
       "[dramatic comedies]                         391\n",
       "[stand-up comedy]                           320\n",
       "[crime]                                     302\n",
       "[action & adventure]                        286\n",
       "[romantic comedies]                         250\n",
       "[music & musicals]                          181\n",
       "[reality]                                   161\n",
       "[horror]                                    134\n",
       "[action & adventure, comedies]               99\n",
       "[horror, thrillers]                          65\n",
       "[comedies, horror]                           27\n",
       "[action & adventure, comedies, dramas]       22\n",
       "[action & adventure, horror]                 16\n",
       "[romantic, comedies, dramas]                 12\n",
       "[comedies, dramas, romantic]                  8\n",
       "[action & adventure, romantic]                6\n",
       "[comedies, thrillers]                         4\n",
       "[romantic, action & adventure]                3\n",
       "[action & adventure, comedies, horror]        3\n",
       "[horror, romantic]                            3\n",
       "[action & adventure, dramas, horror]          3\n",
       "[action & adventure, thrillers]               3\n",
       "[action & adventure, comedies, romantic]      2\n",
       "[romantic, thrillers]                         2\n",
       "[dramas, romantic, thrillers]                 2\n",
       "Name: genre_list, dtype: int64"
      ]
     },
     "execution_count": 32,
     "metadata": {},
     "output_type": "execute_result"
    }
   ],
   "source": [
    "df['genre_list'] = df['genre_list'].apply(lambda value: fuse_genre(value, ['dramas', 'horror']  , 'horror'))\n",
    "\n",
    "df.genre_list.value_counts().head(30)"
   ]
  },
  {
   "cell_type": "code",
   "execution_count": 33,
   "id": "second-combine",
   "metadata": {},
   "outputs": [],
   "source": [
    "def remove_genre(value, genre, val_len):\n",
    "    \n",
    "    if (len(value) >= val_len) and (genre in value):\n",
    "        \n",
    "        value.remove(genre)\n",
    "        \n",
    "    return value"
   ]
  },
  {
   "cell_type": "code",
   "execution_count": 34,
   "id": "wooden-server",
   "metadata": {},
   "outputs": [
    {
     "ename": "TypeError",
     "evalue": "unhashable type: 'list'",
     "output_type": "error",
     "traceback": [
      "\u001b[0;31m---------------------------------------------------------------------------\u001b[0m",
      "\u001b[0;31mTypeError\u001b[0m                                 Traceback (most recent call last)",
      "\u001b[0;32mpandas/_libs/hashtable_class_helper.pxi\u001b[0m in \u001b[0;36mpandas._libs.hashtable.PyObjectHashTable.map_locations\u001b[0;34m()\u001b[0m\n",
      "\u001b[0;31mTypeError\u001b[0m: unhashable type: 'list'"
     ]
    },
    {
     "name": "stderr",
     "output_type": "stream",
     "text": [
      "Exception ignored in: 'pandas._libs.index.IndexEngine._call_map_locations'\n",
      "Traceback (most recent call last):\n",
      "  File \"pandas/_libs/hashtable_class_helper.pxi\", line 4588, in pandas._libs.hashtable.PyObjectHashTable.map_locations\n",
      "TypeError: unhashable type: 'list'\n"
     ]
    },
    {
     "data": {
      "text/plain": [
       "[dramas]                                    903\n",
       "[documentaries]                             740\n",
       "[comedies]                                  656\n",
       "[thrillers]                                 468\n",
       "[romantic]                                  395\n",
       "[dramatic comedies]                         391\n",
       "[stand-up comedy]                           320\n",
       "[crime]                                     302\n",
       "[action & adventure]                        286\n",
       "[romantic comedies]                         250\n",
       "[music & musicals]                          181\n",
       "[reality]                                   161\n",
       "[horror]                                    134\n",
       "[action & adventure, comedies]              121\n",
       "[horror, thrillers]                          65\n",
       "[comedies, horror]                           28\n",
       "[action & adventure, horror]                 19\n",
       "[romantic, comedies]                         12\n",
       "[action & adventure, romantic]                8\n",
       "[comedies, romantic]                          8\n",
       "[romantic, thrillers]                         4\n",
       "[romantic, action & adventure]                4\n",
       "[comedies, thrillers]                         4\n",
       "[action & adventure, comedies, horror]        3\n",
       "[action & adventure, thrillers]               3\n",
       "[horror, romantic]                            3\n",
       "[action & adventure, comedies, romantic]      2\n",
       "[comedies, horror, thrillers]                 1\n",
       "Name: genre_list, dtype: int64"
      ]
     },
     "execution_count": 34,
     "metadata": {},
     "output_type": "execute_result"
    }
   ],
   "source": [
    "df['genre_list'] = df['genre_list'].apply(lambda value: remove_genre(value,'dramas', 3))\n",
    "\n",
    "df.genre_list.value_counts().head(30)"
   ]
  },
  {
   "cell_type": "code",
   "execution_count": 35,
   "id": "developmental-translator",
   "metadata": {},
   "outputs": [
    {
     "ename": "TypeError",
     "evalue": "unhashable type: 'list'",
     "output_type": "error",
     "traceback": [
      "\u001b[0;31m---------------------------------------------------------------------------\u001b[0m",
      "\u001b[0;31mTypeError\u001b[0m                                 Traceback (most recent call last)",
      "\u001b[0;32mpandas/_libs/hashtable_class_helper.pxi\u001b[0m in \u001b[0;36mpandas._libs.hashtable.PyObjectHashTable.map_locations\u001b[0;34m()\u001b[0m\n",
      "\u001b[0;31mTypeError\u001b[0m: unhashable type: 'list'"
     ]
    },
    {
     "name": "stderr",
     "output_type": "stream",
     "text": [
      "Exception ignored in: 'pandas._libs.index.IndexEngine._call_map_locations'\n",
      "Traceback (most recent call last):\n",
      "  File \"pandas/_libs/hashtable_class_helper.pxi\", line 4588, in pandas._libs.hashtable.PyObjectHashTable.map_locations\n",
      "TypeError: unhashable type: 'list'\n"
     ]
    },
    {
     "data": {
      "text/plain": [
       "[dramas]                                    903\n",
       "[documentaries]                             740\n",
       "[comedies]                                  656\n",
       "[thrillers]                                 468\n",
       "[romantic]                                  395\n",
       "[dramatic comedies]                         391\n",
       "[stand-up comedy]                           320\n",
       "[crime]                                     302\n",
       "[action & adventure]                        286\n",
       "[romantic comedies]                         270\n",
       "[music & musicals]                          181\n",
       "[reality]                                   161\n",
       "[horror]                                    134\n",
       "[action & adventure, comedies]              121\n",
       "[horror, thrillers]                          65\n",
       "[comedies, horror]                           28\n",
       "[action & adventure, horror]                 19\n",
       "[action & adventure, romantic]                8\n",
       "[romantic, action & adventure]                4\n",
       "[comedies, thrillers]                         4\n",
       "[romantic, thrillers]                         4\n",
       "[action & adventure, thrillers]               3\n",
       "[action & adventure, comedies, horror]        3\n",
       "[horror, romantic]                            3\n",
       "[action & adventure, comedies, romantic]      2\n",
       "[comedies, horror, thrillers]                 1\n",
       "Name: genre_list, dtype: int64"
      ]
     },
     "execution_count": 35,
     "metadata": {},
     "output_type": "execute_result"
    }
   ],
   "source": [
    "df['genre_list'] = df['genre_list'].apply(lambda value: fuse_genre(value, ['romantic', 'comedies'], 'romantic comedies'))\n",
    "\n",
    "df.genre_list.value_counts().head(30)"
   ]
  },
  {
   "cell_type": "code",
   "execution_count": 36,
   "id": "northern-stream",
   "metadata": {},
   "outputs": [
    {
     "ename": "TypeError",
     "evalue": "unhashable type: 'list'",
     "output_type": "error",
     "traceback": [
      "\u001b[0;31m---------------------------------------------------------------------------\u001b[0m",
      "\u001b[0;31mTypeError\u001b[0m                                 Traceback (most recent call last)",
      "\u001b[0;32mpandas/_libs/hashtable_class_helper.pxi\u001b[0m in \u001b[0;36mpandas._libs.hashtable.PyObjectHashTable.map_locations\u001b[0;34m()\u001b[0m\n",
      "\u001b[0;31mTypeError\u001b[0m: unhashable type: 'list'"
     ]
    },
    {
     "name": "stderr",
     "output_type": "stream",
     "text": [
      "Exception ignored in: 'pandas._libs.index.IndexEngine._call_map_locations'\n",
      "Traceback (most recent call last):\n",
      "  File \"pandas/_libs/hashtable_class_helper.pxi\", line 4588, in pandas._libs.hashtable.PyObjectHashTable.map_locations\n",
      "TypeError: unhashable type: 'list'\n"
     ]
    },
    {
     "data": {
      "text/plain": [
       "[dramas]                                    903\n",
       "[documentaries]                             740\n",
       "[comedies]                                  656\n",
       "[thrillers]                                 468\n",
       "[romantic]                                  395\n",
       "[dramatic comedies]                         391\n",
       "[stand-up comedy]                           320\n",
       "[crime]                                     302\n",
       "[action & adventure]                        286\n",
       "[romantic comedies]                         270\n",
       "[horror]                                    253\n",
       "[music & musicals]                          181\n",
       "[reality]                                   161\n",
       "[action & adventure, comedies]              121\n",
       "[action & adventure, romantic]                8\n",
       "[romantic, thrillers]                         4\n",
       "[romantic, action & adventure]                4\n",
       "[comedies, thrillers]                         4\n",
       "[action & adventure, thrillers]               3\n",
       "[action & adventure, comedies, romantic]      2\n",
       "Name: genre_list, dtype: int64"
      ]
     },
     "execution_count": 36,
     "metadata": {},
     "output_type": "execute_result"
    }
   ],
   "source": [
    "merge_list = ['horror']\n",
    "df['genre_list'] = df['genre_list'].apply(lambda value: merge_genres(value,merge_list,'horror'))\n",
    "\n",
    "df.genre_list.value_counts().head(99)"
   ]
  },
  {
   "cell_type": "code",
   "execution_count": 37,
   "id": "interesting-jewelry",
   "metadata": {},
   "outputs": [
    {
     "ename": "TypeError",
     "evalue": "unhashable type: 'list'",
     "output_type": "error",
     "traceback": [
      "\u001b[0;31m---------------------------------------------------------------------------\u001b[0m",
      "\u001b[0;31mTypeError\u001b[0m                                 Traceback (most recent call last)",
      "\u001b[0;32mpandas/_libs/hashtable_class_helper.pxi\u001b[0m in \u001b[0;36mpandas._libs.hashtable.PyObjectHashTable.map_locations\u001b[0;34m()\u001b[0m\n",
      "\u001b[0;31mTypeError\u001b[0m: unhashable type: 'list'"
     ]
    },
    {
     "name": "stderr",
     "output_type": "stream",
     "text": [
      "Exception ignored in: 'pandas._libs.index.IndexEngine._call_map_locations'\n",
      "Traceback (most recent call last):\n",
      "  File \"pandas/_libs/hashtable_class_helper.pxi\", line 4588, in pandas._libs.hashtable.PyObjectHashTable.map_locations\n",
      "TypeError: unhashable type: 'list'\n"
     ]
    },
    {
     "data": {
      "text/plain": [
       "[dramas]                                    903\n",
       "[documentaries]                             740\n",
       "[comedies]                                  656\n",
       "[thrillers]                                 468\n",
       "[romantic]                                  395\n",
       "[dramatic comedies]                         391\n",
       "[stand-up comedy]                           320\n",
       "[crime]                                     302\n",
       "[action & adventure]                        286\n",
       "[romantic comedies]                         270\n",
       "[horror]                                    253\n",
       "[music & musicals]                          181\n",
       "[reality]                                   161\n",
       "[action & adventure comedies]               121\n",
       "[action & adventure, romantic]                8\n",
       "[romantic, thrillers]                         4\n",
       "[romantic, action & adventure]                4\n",
       "[comedies, thrillers]                         4\n",
       "[action & adventure, thrillers]               3\n",
       "[action & adventure, comedies, romantic]      2\n",
       "Name: genre_list, dtype: int64"
      ]
     },
     "execution_count": 37,
     "metadata": {},
     "output_type": "execute_result"
    }
   ],
   "source": [
    "df['genre_list'] = df['genre_list'].apply(lambda value: fuse_genre(value, ['action & adventure', 'comedies'], 'action & adventure comedies'))\n",
    "\n",
    "df.genre_list.value_counts().head(99)"
   ]
  },
  {
   "cell_type": "code",
   "execution_count": 38,
   "id": "democratic-scale",
   "metadata": {},
   "outputs": [
    {
     "name": "stdout",
     "output_type": "stream",
     "text": [
      "(5472, 3)\n",
      "(5447, 3)\n"
     ]
    }
   ],
   "source": [
    "print(df.shape)\n",
    "df = df[df['genre_list'].map(lambda d: len(d)) == 1]\n",
    "print(df.shape)"
   ]
  },
  {
   "cell_type": "code",
   "execution_count": 40,
   "id": "qualified-engagement",
   "metadata": {},
   "outputs": [
    {
     "data": {
      "text/html": [
       "<div>\n",
       "<style scoped>\n",
       "    .dataframe tbody tr th:only-of-type {\n",
       "        vertical-align: middle;\n",
       "    }\n",
       "\n",
       "    .dataframe tbody tr th {\n",
       "        vertical-align: top;\n",
       "    }\n",
       "\n",
       "    .dataframe thead th {\n",
       "        text-align: right;\n",
       "    }\n",
       "</style>\n",
       "<table border=\"1\" class=\"dataframe\">\n",
       "  <thead>\n",
       "    <tr style=\"text-align: right;\">\n",
       "      <th></th>\n",
       "      <th>description</th>\n",
       "      <th>genre</th>\n",
       "      <th>genre_list</th>\n",
       "    </tr>\n",
       "  </thead>\n",
       "  <tbody>\n",
       "    <tr>\n",
       "      <th>0</th>\n",
       "      <td>docuseries take deep dive lucrative wellness i...</td>\n",
       "      <td>reality</td>\n",
       "      <td>[reality]</td>\n",
       "    </tr>\n",
       "    <tr>\n",
       "      <th>1</th>\n",
       "      <td>grisly virus rampage city lone man stay locked...</td>\n",
       "      <td>horror,international,thrillers</td>\n",
       "      <td>[horror]</td>\n",
       "    </tr>\n",
       "    <tr>\n",
       "      <th>2</th>\n",
       "      <td>diary anne frank story retold alongside five h...</td>\n",
       "      <td>documentaries,international</td>\n",
       "      <td>[documentaries]</td>\n",
       "    </tr>\n",
       "    <tr>\n",
       "      <th>3</th>\n",
       "      <td>kenya barris family navigate relationship race...</td>\n",
       "      <td>comedies</td>\n",
       "      <td>[comedies]</td>\n",
       "    </tr>\n",
       "    <tr>\n",
       "      <th>4</th>\n",
       "      <td>pawesome documentary explores feline friend be...</td>\n",
       "      <td>documentaries,international</td>\n",
       "      <td>[documentaries]</td>\n",
       "    </tr>\n",
       "  </tbody>\n",
       "</table>\n",
       "</div>"
      ],
      "text/plain": [
       "                                         description  \\\n",
       "0  docuseries take deep dive lucrative wellness i...   \n",
       "1  grisly virus rampage city lone man stay locked...   \n",
       "2  diary anne frank story retold alongside five h...   \n",
       "3  kenya barris family navigate relationship race...   \n",
       "4  pawesome documentary explores feline friend be...   \n",
       "\n",
       "                            genre       genre_list  \n",
       "0                         reality        [reality]  \n",
       "1  horror,international,thrillers         [horror]  \n",
       "2     documentaries,international  [documentaries]  \n",
       "3                        comedies       [comedies]  \n",
       "4     documentaries,international  [documentaries]  "
      ]
     },
     "execution_count": 40,
     "metadata": {},
     "output_type": "execute_result"
    }
   ],
   "source": [
    "df.head()"
   ]
  },
  {
   "cell_type": "code",
   "execution_count": 42,
   "id": "cooperative-starter",
   "metadata": {},
   "outputs": [
    {
     "data": {
      "text/html": [
       "<div>\n",
       "<style scoped>\n",
       "    .dataframe tbody tr th:only-of-type {\n",
       "        vertical-align: middle;\n",
       "    }\n",
       "\n",
       "    .dataframe tbody tr th {\n",
       "        vertical-align: top;\n",
       "    }\n",
       "\n",
       "    .dataframe thead th {\n",
       "        text-align: right;\n",
       "    }\n",
       "</style>\n",
       "<table border=\"1\" class=\"dataframe\">\n",
       "  <thead>\n",
       "    <tr style=\"text-align: right;\">\n",
       "      <th></th>\n",
       "      <th>description</th>\n",
       "      <th>genre</th>\n",
       "      <th>genre_list</th>\n",
       "    </tr>\n",
       "  </thead>\n",
       "  <tbody>\n",
       "    <tr>\n",
       "      <th>0</th>\n",
       "      <td>docuseries take deep dive lucrative wellness i...</td>\n",
       "      <td>reality</td>\n",
       "      <td>[reality]</td>\n",
       "    </tr>\n",
       "    <tr>\n",
       "      <th>1</th>\n",
       "      <td>grisly virus rampage city lone man stay locked...</td>\n",
       "      <td>horror</td>\n",
       "      <td>[horror]</td>\n",
       "    </tr>\n",
       "    <tr>\n",
       "      <th>2</th>\n",
       "      <td>diary anne frank story retold alongside five h...</td>\n",
       "      <td>documentaries</td>\n",
       "      <td>[documentaries]</td>\n",
       "    </tr>\n",
       "    <tr>\n",
       "      <th>3</th>\n",
       "      <td>kenya barris family navigate relationship race...</td>\n",
       "      <td>comedies</td>\n",
       "      <td>[comedies]</td>\n",
       "    </tr>\n",
       "    <tr>\n",
       "      <th>4</th>\n",
       "      <td>pawesome documentary explores feline friend be...</td>\n",
       "      <td>documentaries</td>\n",
       "      <td>[documentaries]</td>\n",
       "    </tr>\n",
       "  </tbody>\n",
       "</table>\n",
       "</div>"
      ],
      "text/plain": [
       "                                         description          genre  \\\n",
       "0  docuseries take deep dive lucrative wellness i...        reality   \n",
       "1  grisly virus rampage city lone man stay locked...         horror   \n",
       "2  diary anne frank story retold alongside five h...  documentaries   \n",
       "3  kenya barris family navigate relationship race...       comedies   \n",
       "4  pawesome documentary explores feline friend be...  documentaries   \n",
       "\n",
       "        genre_list  \n",
       "0        [reality]  \n",
       "1         [horror]  \n",
       "2  [documentaries]  \n",
       "3       [comedies]  \n",
       "4  [documentaries]  "
      ]
     },
     "execution_count": 42,
     "metadata": {},
     "output_type": "execute_result"
    }
   ],
   "source": [
    "df['genre'] = df.genre_list.apply(lambda value: value[0])\n",
    "df.head()"
   ]
  },
  {
   "cell_type": "code",
   "execution_count": 43,
   "id": "designing-necklace",
   "metadata": {},
   "outputs": [
    {
     "data": {
      "text/html": [
       "<div>\n",
       "<style scoped>\n",
       "    .dataframe tbody tr th:only-of-type {\n",
       "        vertical-align: middle;\n",
       "    }\n",
       "\n",
       "    .dataframe tbody tr th {\n",
       "        vertical-align: top;\n",
       "    }\n",
       "\n",
       "    .dataframe thead th {\n",
       "        text-align: right;\n",
       "    }\n",
       "</style>\n",
       "<table border=\"1\" class=\"dataframe\">\n",
       "  <thead>\n",
       "    <tr style=\"text-align: right;\">\n",
       "      <th></th>\n",
       "      <th>description</th>\n",
       "      <th>genre</th>\n",
       "    </tr>\n",
       "  </thead>\n",
       "  <tbody>\n",
       "    <tr>\n",
       "      <th>0</th>\n",
       "      <td>docuseries take deep dive lucrative wellness i...</td>\n",
       "      <td>reality</td>\n",
       "    </tr>\n",
       "    <tr>\n",
       "      <th>1</th>\n",
       "      <td>grisly virus rampage city lone man stay locked...</td>\n",
       "      <td>horror</td>\n",
       "    </tr>\n",
       "    <tr>\n",
       "      <th>2</th>\n",
       "      <td>diary anne frank story retold alongside five h...</td>\n",
       "      <td>documentaries</td>\n",
       "    </tr>\n",
       "    <tr>\n",
       "      <th>3</th>\n",
       "      <td>kenya barris family navigate relationship race...</td>\n",
       "      <td>comedies</td>\n",
       "    </tr>\n",
       "    <tr>\n",
       "      <th>4</th>\n",
       "      <td>pawesome documentary explores feline friend be...</td>\n",
       "      <td>documentaries</td>\n",
       "    </tr>\n",
       "  </tbody>\n",
       "</table>\n",
       "</div>"
      ],
      "text/plain": [
       "                                         description          genre\n",
       "0  docuseries take deep dive lucrative wellness i...        reality\n",
       "1  grisly virus rampage city lone man stay locked...         horror\n",
       "2  diary anne frank story retold alongside five h...  documentaries\n",
       "3  kenya barris family navigate relationship race...       comedies\n",
       "4  pawesome documentary explores feline friend be...  documentaries"
      ]
     },
     "execution_count": 43,
     "metadata": {},
     "output_type": "execute_result"
    }
   ],
   "source": [
    "df = df.drop(columns = 'genre_list')\n",
    "\n",
    "df.head()"
   ]
  },
  {
   "cell_type": "code",
   "execution_count": 44,
   "id": "hungry-aging",
   "metadata": {},
   "outputs": [
    {
     "data": {
      "text/plain": [
       "{'action & adventure',\n",
       " 'action & adventure comedies',\n",
       " 'comedies',\n",
       " 'crime',\n",
       " 'documentaries',\n",
       " 'dramas',\n",
       " 'dramatic comedies',\n",
       " 'horror',\n",
       " 'music & musicals',\n",
       " 'reality',\n",
       " 'romantic',\n",
       " 'romantic comedies',\n",
       " 'stand-up comedy',\n",
       " 'thrillers'}"
      ]
     },
     "execution_count": 44,
     "metadata": {},
     "output_type": "execute_result"
    }
   ],
   "source": [
    "set(df.genre.to_list())"
   ]
  },
  {
   "cell_type": "code",
   "execution_count": null,
   "id": "opened-notion",
   "metadata": {},
   "outputs": [],
   "source": []
  }
 ],
 "metadata": {
  "kernelspec": {
   "display_name": "Python 3",
   "language": "python",
   "name": "python3"
  },
  "language_info": {
   "codemirror_mode": {
    "name": "ipython",
    "version": 3
   },
   "file_extension": ".py",
   "mimetype": "text/x-python",
   "name": "python",
   "nbconvert_exporter": "python",
   "pygments_lexer": "ipython3",
   "version": "3.7.4"
  }
 },
 "nbformat": 4,
 "nbformat_minor": 5
}

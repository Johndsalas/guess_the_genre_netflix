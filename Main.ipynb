{
 "cells": [
  {
   "cell_type": "markdown",
   "id": "limited-colonial",
   "metadata": {},
   "source": [
    "# Imports"
   ]
  },
  {
   "cell_type": "code",
   "execution_count": 1,
   "id": "upset-deployment",
   "metadata": {},
   "outputs": [],
   "source": [
    "import pandas as pd\n",
    "import re\n",
    "\n",
    "import warnings\n",
    "warnings.filterwarnings('ignore')\n",
    "\n",
    "import unicodedata\n",
    "import nltk\n",
    "from nltk.tokenize.toktok import ToktokTokenizer\n",
    "from nltk.corpus import stopwords\n",
    "\n",
    "import wrangle as w\n",
    "import explore as e\n",
    "import modeling as m"
   ]
  },
  {
   "cell_type": "markdown",
   "id": "understanding-hierarchy",
   "metadata": {},
   "source": [
    "# Acquire\n",
    "\n",
    "* Data aquired from [Kaggle](https://www.kaggle.com/satpreetmakhija/netflix-movies-and-tv-shows-2021) on 2/04/2022\n",
    "* Each observation represents on movie or film series \n",
    "* Because the distinction between a single movie an a multi-part series is not relevant to this study I will be referring to each as a movie for the duration of this study\n",
    "* The original data set had 5967 rows and 13 columns"
   ]
  },
  {
   "cell_type": "markdown",
   "id": "minor-enlargement",
   "metadata": {},
   "source": [
    "# Prepare\n",
    "\n",
    "* The dataframe retained 5494 and 2 columns after preperarion\n",
    "* Data was prepared using the fillowing steps:\n",
    "    * Drop all columns other than 'description' and 'genre'\n",
    "    * Lowercased text in both columns\n",
    "    * Lowercased column names\n",
    "    * Prepared text in 'description' for exploration using the following steps:\n",
    "      * Removed all non-ascii and special characters form the text\n",
    "      * Tokenized the words in the text\n",
    "      * Lemmatized the words in the text\n",
    "      * Removed stopwords\n",
    "    * my goal for genre was to insure that each film only represented one genre after preperation\n",
    "    * Prepared genre text using the following steps:\n",
    "      * Removed text indicating if a film is a standalone movie or series\n",
    "      * Created new column of curated list of genres       \n",
    "      * The following genres were removed because they do not refer the films theam:\n",
    "          * international\n",
    "          * korean\n",
    "          * teen\n",
    "          * british\n",
    "          * spanish-language \n",
    "          * independent\n",
    "          * anime\n",
    "          * kids\n",
    "          * children & family    \n",
    "          * classic & cult\n",
    "          * classic\n",
    "          * cult\n",
    "      * The following genres were removed due to low representation\n",
    "          * lgbtq\n",
    "          * sci-fi & fantasy\n",
    "          * sports\n",
    "          * faith & spirituality\n",
    "          * stand-up comedy & talk\n",
    "          * mysteries\n",
    "      * Dropped rows with empty genre lists after above genres were removed\n",
    "      * Merged films with docuseries, documentary, or documentaries in it's genre list together into one genre documentaries\n",
    "      * Merged together films with the following geres together under that genre alone\n",
    "          * reality\n",
    "          * music & musicals\n",
    "          * crime\n",
    "          * horror\n",
    "      * Removed dramas from genre lists that contained three or more genes\n",
    "      * Fused together the following genres to create new genres\n",
    "          * romantic and comedies are now romantic comedies\n",
    "          * dramas and comedies are now dramitic comedies\n",
    "          * action & adventure and comedies are now action & adventure comedies\n",
    "      * Removed drama from films that had other genres\n",
    "      * Dropped rows that had more than one genre    "
   ]
  },
  {
   "cell_type": "code",
   "execution_count": 4,
   "id": "prescription-citizenship",
   "metadata": {},
   "outputs": [],
   "source": [
    "df = w.get_my_movie_data()"
   ]
  },
  {
   "cell_type": "markdown",
   "id": "honey-tumor",
   "metadata": {},
   "source": [
    "# Explore"
   ]
  },
  {
   "cell_type": "code",
   "execution_count": null,
   "id": "frozen-emergency",
   "metadata": {},
   "outputs": [],
   "source": []
  }
 ],
 "metadata": {
  "kernelspec": {
   "display_name": "Python 3",
   "language": "python",
   "name": "python3"
  },
  "language_info": {
   "codemirror_mode": {
    "name": "ipython",
    "version": 3
   },
   "file_extension": ".py",
   "mimetype": "text/x-python",
   "name": "python",
   "nbconvert_exporter": "python",
   "pygments_lexer": "ipython3",
   "version": "3.7.4"
  }
 },
 "nbformat": 4,
 "nbformat_minor": 5
}

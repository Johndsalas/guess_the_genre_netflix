{
 "cells": [
  {
   "cell_type": "markdown",
   "id": "limited-colonial",
   "metadata": {},
   "source": [
    "# Imports"
   ]
  },
  {
   "cell_type": "code",
   "execution_count": 1,
   "id": "upset-deployment",
   "metadata": {},
   "outputs": [],
   "source": [
    "import pandas as pd\n",
    "import re\n",
    "\n",
    "import warnings\n",
    "warnings.filterwarnings('ignore')\n",
    "\n",
    "import unicodedata\n",
    "import nltk\n",
    "from nltk.tokenize.toktok import ToktokTokenizer\n",
    "from nltk.corpus import stopwords\n",
    "\n",
    "import wrangle as w\n",
    "import explore as e\n",
    "import modeling as m"
   ]
  },
  {
   "cell_type": "markdown",
   "id": "understanding-hierarchy",
   "metadata": {},
   "source": [
    "# Acquire\n",
    "\n",
    "* Data aquired from [Kaggle](https://www.kaggle.com/satpreetmakhija/netflix-movies-and-tv-shows-2021) on 2/04/2022\n",
    "* Each observation represents on movie or film series \n",
    "* Because the distinction between a single movie an a multi-part series is not relevant to this study I will be referring to each as a movie for the duration of this study\n",
    "* The original data set had 5967 rows and 13 columns"
   ]
  },
  {
   "cell_type": "markdown",
   "id": "minor-enlargement",
   "metadata": {},
   "source": [
    "# Prepare\n",
    "\n",
    "* Data was prepared using the fillowing steps:\n",
    "    * Drop all columns other than 'description' and 'genre'\n",
    "    * Lowercased text in both columns\n",
    "    * Lowercased column names\n",
    "    * Prepared text in 'description' for exploration using the following steps:\n",
    "      * Removed all non-ascii and special characters form the text\n",
    "      * Tokenized the words in the text\n",
    "      * Lemmatized the words in the text\n",
    "      * Removed stopwords\n",
    "    * Prepared genre text using the following steps:\n",
    "      * removed text indicating if a film is a standalone movie or series\n",
    "      * created new column of curated list of genres       \n",
    "      * The following genres were removed because they refeered to how the film was made or its intended audience rather than the theam of the film\n",
    "           "
   ]
  },
  {
   "cell_type": "code",
   "execution_count": 2,
   "id": "prescription-citizenship",
   "metadata": {},
   "outputs": [
    {
     "data": {
      "text/html": [
       "<div>\n",
       "<style scoped>\n",
       "    .dataframe tbody tr th:only-of-type {\n",
       "        vertical-align: middle;\n",
       "    }\n",
       "\n",
       "    .dataframe tbody tr th {\n",
       "        vertical-align: top;\n",
       "    }\n",
       "\n",
       "    .dataframe thead th {\n",
       "        text-align: right;\n",
       "    }\n",
       "</style>\n",
       "<table border=\"1\" class=\"dataframe\">\n",
       "  <thead>\n",
       "    <tr style=\"text-align: right;\">\n",
       "      <th></th>\n",
       "      <th>description</th>\n",
       "      <th>genre</th>\n",
       "    </tr>\n",
       "  </thead>\n",
       "  <tbody>\n",
       "    <tr>\n",
       "      <th>0</th>\n",
       "      <td>docuseries take deep dive lucrative wellness i...</td>\n",
       "      <td>reality</td>\n",
       "    </tr>\n",
       "    <tr>\n",
       "      <th>1</th>\n",
       "      <td>grisly virus rampage city lone man stay locked...</td>\n",
       "      <td>horror</td>\n",
       "    </tr>\n",
       "    <tr>\n",
       "      <th>2</th>\n",
       "      <td>diary anne frank story retold alongside five h...</td>\n",
       "      <td>documentaries</td>\n",
       "    </tr>\n",
       "    <tr>\n",
       "      <th>3</th>\n",
       "      <td>kenya barris family navigate relationship race...</td>\n",
       "      <td>comedies</td>\n",
       "    </tr>\n",
       "    <tr>\n",
       "      <th>4</th>\n",
       "      <td>pawesome documentary explores feline friend be...</td>\n",
       "      <td>documentaries</td>\n",
       "    </tr>\n",
       "  </tbody>\n",
       "</table>\n",
       "</div>"
      ],
      "text/plain": [
       "                                         description          genre\n",
       "0  docuseries take deep dive lucrative wellness i...        reality\n",
       "1  grisly virus rampage city lone man stay locked...         horror\n",
       "2  diary anne frank story retold alongside five h...  documentaries\n",
       "3  kenya barris family navigate relationship race...       comedies\n",
       "4  pawesome documentary explores feline friend be...  documentaries"
      ]
     },
     "execution_count": 2,
     "metadata": {},
     "output_type": "execute_result"
    }
   ],
   "source": [
    "df = w.get_my_movie_data()\n",
    "df.head()"
   ]
  },
  {
   "cell_type": "code",
   "execution_count": 3,
   "id": "serious-dominican",
   "metadata": {},
   "outputs": [
    {
     "data": {
      "text/plain": [
       "dramas                         903\n",
       "documentaries                  740\n",
       "comedies                       656\n",
       "action & adventure             451\n",
       "romantic                       395\n",
       "dramatic comedies              391\n",
       "stand-up comedy                320\n",
       "thrillers                      303\n",
       "crime                          302\n",
       "romantic comedies              270\n",
       "horror                         253\n",
       "music & musicals               181\n",
       "reality                        161\n",
       "action & adventure comedies    121\n",
       "Name: genre, dtype: int64"
      ]
     },
     "execution_count": 3,
     "metadata": {},
     "output_type": "execute_result"
    }
   ],
   "source": [
    "df.genre.value_counts()"
   ]
  },
  {
   "cell_type": "code",
   "execution_count": 4,
   "id": "specific-native",
   "metadata": {},
   "outputs": [
    {
     "ename": "KeyError",
     "evalue": "\"None of [Index(['Description', 'Genres'], dtype='object')] are in the [columns]\"",
     "output_type": "error",
     "traceback": [
      "\u001b[0;31m---------------------------------------------------------------------------\u001b[0m",
      "\u001b[0;31mKeyError\u001b[0m                                  Traceback (most recent call last)",
      "\u001b[0;32m<ipython-input-4-f9bbef45a84b>\u001b[0m in \u001b[0;36m<module>\u001b[0;34m\u001b[0m\n\u001b[0;32m----> 1\u001b[0;31m \u001b[0mdf\u001b[0m \u001b[0;34m=\u001b[0m \u001b[0mdf\u001b[0m\u001b[0;34m[\u001b[0m\u001b[0;34m[\u001b[0m\u001b[0;34m'Description'\u001b[0m\u001b[0;34m,\u001b[0m\u001b[0;34m'Genres'\u001b[0m\u001b[0;34m]\u001b[0m\u001b[0;34m]\u001b[0m\u001b[0;34m\u001b[0m\u001b[0;34m\u001b[0m\u001b[0m\n\u001b[0m\u001b[1;32m      2\u001b[0m \u001b[0mdf\u001b[0m\u001b[0;34m.\u001b[0m\u001b[0mhead\u001b[0m\u001b[0;34m(\u001b[0m\u001b[0;34m)\u001b[0m\u001b[0;34m\u001b[0m\u001b[0;34m\u001b[0m\u001b[0m\n",
      "\u001b[0;32m/usr/local/anaconda3/lib/python3.7/site-packages/pandas/core/frame.py\u001b[0m in \u001b[0;36m__getitem__\u001b[0;34m(self, key)\u001b[0m\n\u001b[1;32m   3028\u001b[0m             \u001b[0;32mif\u001b[0m \u001b[0mis_iterator\u001b[0m\u001b[0;34m(\u001b[0m\u001b[0mkey\u001b[0m\u001b[0;34m)\u001b[0m\u001b[0;34m:\u001b[0m\u001b[0;34m\u001b[0m\u001b[0;34m\u001b[0m\u001b[0m\n\u001b[1;32m   3029\u001b[0m                 \u001b[0mkey\u001b[0m \u001b[0;34m=\u001b[0m \u001b[0mlist\u001b[0m\u001b[0;34m(\u001b[0m\u001b[0mkey\u001b[0m\u001b[0;34m)\u001b[0m\u001b[0;34m\u001b[0m\u001b[0;34m\u001b[0m\u001b[0m\n\u001b[0;32m-> 3030\u001b[0;31m             \u001b[0mindexer\u001b[0m \u001b[0;34m=\u001b[0m \u001b[0mself\u001b[0m\u001b[0;34m.\u001b[0m\u001b[0mloc\u001b[0m\u001b[0;34m.\u001b[0m\u001b[0m_get_listlike_indexer\u001b[0m\u001b[0;34m(\u001b[0m\u001b[0mkey\u001b[0m\u001b[0;34m,\u001b[0m \u001b[0maxis\u001b[0m\u001b[0;34m=\u001b[0m\u001b[0;36m1\u001b[0m\u001b[0;34m,\u001b[0m \u001b[0mraise_missing\u001b[0m\u001b[0;34m=\u001b[0m\u001b[0;32mTrue\u001b[0m\u001b[0;34m)\u001b[0m\u001b[0;34m[\u001b[0m\u001b[0;36m1\u001b[0m\u001b[0;34m]\u001b[0m\u001b[0;34m\u001b[0m\u001b[0;34m\u001b[0m\u001b[0m\n\u001b[0m\u001b[1;32m   3031\u001b[0m \u001b[0;34m\u001b[0m\u001b[0m\n\u001b[1;32m   3032\u001b[0m         \u001b[0;31m# take() does not accept boolean indexers\u001b[0m\u001b[0;34m\u001b[0m\u001b[0;34m\u001b[0m\u001b[0;34m\u001b[0m\u001b[0m\n",
      "\u001b[0;32m/usr/local/anaconda3/lib/python3.7/site-packages/pandas/core/indexing.py\u001b[0m in \u001b[0;36m_get_listlike_indexer\u001b[0;34m(self, key, axis, raise_missing)\u001b[0m\n\u001b[1;32m   1264\u001b[0m             \u001b[0mkeyarr\u001b[0m\u001b[0;34m,\u001b[0m \u001b[0mindexer\u001b[0m\u001b[0;34m,\u001b[0m \u001b[0mnew_indexer\u001b[0m \u001b[0;34m=\u001b[0m \u001b[0max\u001b[0m\u001b[0;34m.\u001b[0m\u001b[0m_reindex_non_unique\u001b[0m\u001b[0;34m(\u001b[0m\u001b[0mkeyarr\u001b[0m\u001b[0;34m)\u001b[0m\u001b[0;34m\u001b[0m\u001b[0;34m\u001b[0m\u001b[0m\n\u001b[1;32m   1265\u001b[0m \u001b[0;34m\u001b[0m\u001b[0m\n\u001b[0;32m-> 1266\u001b[0;31m         \u001b[0mself\u001b[0m\u001b[0;34m.\u001b[0m\u001b[0m_validate_read_indexer\u001b[0m\u001b[0;34m(\u001b[0m\u001b[0mkeyarr\u001b[0m\u001b[0;34m,\u001b[0m \u001b[0mindexer\u001b[0m\u001b[0;34m,\u001b[0m \u001b[0maxis\u001b[0m\u001b[0;34m,\u001b[0m \u001b[0mraise_missing\u001b[0m\u001b[0;34m=\u001b[0m\u001b[0mraise_missing\u001b[0m\u001b[0;34m)\u001b[0m\u001b[0;34m\u001b[0m\u001b[0;34m\u001b[0m\u001b[0m\n\u001b[0m\u001b[1;32m   1267\u001b[0m         \u001b[0;32mreturn\u001b[0m \u001b[0mkeyarr\u001b[0m\u001b[0;34m,\u001b[0m \u001b[0mindexer\u001b[0m\u001b[0;34m\u001b[0m\u001b[0;34m\u001b[0m\u001b[0m\n\u001b[1;32m   1268\u001b[0m \u001b[0;34m\u001b[0m\u001b[0m\n",
      "\u001b[0;32m/usr/local/anaconda3/lib/python3.7/site-packages/pandas/core/indexing.py\u001b[0m in \u001b[0;36m_validate_read_indexer\u001b[0;34m(self, key, indexer, axis, raise_missing)\u001b[0m\n\u001b[1;32m   1306\u001b[0m             \u001b[0;32mif\u001b[0m \u001b[0mmissing\u001b[0m \u001b[0;34m==\u001b[0m \u001b[0mlen\u001b[0m\u001b[0;34m(\u001b[0m\u001b[0mindexer\u001b[0m\u001b[0;34m)\u001b[0m\u001b[0;34m:\u001b[0m\u001b[0;34m\u001b[0m\u001b[0;34m\u001b[0m\u001b[0m\n\u001b[1;32m   1307\u001b[0m                 \u001b[0maxis_name\u001b[0m \u001b[0;34m=\u001b[0m \u001b[0mself\u001b[0m\u001b[0;34m.\u001b[0m\u001b[0mobj\u001b[0m\u001b[0;34m.\u001b[0m\u001b[0m_get_axis_name\u001b[0m\u001b[0;34m(\u001b[0m\u001b[0maxis\u001b[0m\u001b[0;34m)\u001b[0m\u001b[0;34m\u001b[0m\u001b[0;34m\u001b[0m\u001b[0m\n\u001b[0;32m-> 1308\u001b[0;31m                 \u001b[0;32mraise\u001b[0m \u001b[0mKeyError\u001b[0m\u001b[0;34m(\u001b[0m\u001b[0;34mf\"None of [{key}] are in the [{axis_name}]\"\u001b[0m\u001b[0;34m)\u001b[0m\u001b[0;34m\u001b[0m\u001b[0;34m\u001b[0m\u001b[0m\n\u001b[0m\u001b[1;32m   1309\u001b[0m \u001b[0;34m\u001b[0m\u001b[0m\n\u001b[1;32m   1310\u001b[0m             \u001b[0max\u001b[0m \u001b[0;34m=\u001b[0m \u001b[0mself\u001b[0m\u001b[0;34m.\u001b[0m\u001b[0mobj\u001b[0m\u001b[0;34m.\u001b[0m\u001b[0m_get_axis\u001b[0m\u001b[0;34m(\u001b[0m\u001b[0maxis\u001b[0m\u001b[0;34m)\u001b[0m\u001b[0;34m\u001b[0m\u001b[0;34m\u001b[0m\u001b[0m\n",
      "\u001b[0;31mKeyError\u001b[0m: \"None of [Index(['Description', 'Genres'], dtype='object')] are in the [columns]\""
     ]
    }
   ],
   "source": [
    "df = df[['Description','Genres']]\n",
    "df.head()"
   ]
  },
  {
   "cell_type": "code",
   "execution_count": null,
   "id": "virtual-convention",
   "metadata": {},
   "outputs": [],
   "source": [
    "# Lowercase all of the letters in both columns\n",
    "df['Description'] = df['Description'].apply(lambda value: value.lower())\n",
    "df['Genres'] = df['Genres'].apply(lambda value: value.lower())\n",
    "df.head()"
   ]
  },
  {
   "cell_type": "code",
   "execution_count": null,
   "id": "timely-bumper",
   "metadata": {},
   "outputs": [],
   "source": [
    "# rename columns\n",
    "df.rename(columns={'Description':'description', 'Genres':'genre'}, inplace = True)\n",
    "df.head()"
   ]
  },
  {
   "cell_type": "code",
   "execution_count": null,
   "id": "african-basics",
   "metadata": {},
   "outputs": [],
   "source": [
    "# remove non-ascii characters from description text \n",
    "df['description'] = df['description'].apply(lambda value: unicodedata.normalize('NFKD', value)\\\n",
    "                                                                     .encode('ascii', 'ignore')\\\n",
    "                                                                     .decode('utf-8', 'ignore'))\n",
    "df.head()"
   ]
  },
  {
   "cell_type": "code",
   "execution_count": null,
   "id": "narrow-brunei",
   "metadata": {},
   "outputs": [],
   "source": [
    "# remove special characters from description text\n",
    "df['description'] = df['description'].apply(lambda value: re.sub(r\"[^a-z0-9\\s]\", '', value))\n",
    "\n",
    "df.head()"
   ]
  },
  {
   "cell_type": "code",
   "execution_count": null,
   "id": "juvenile-median",
   "metadata": {},
   "outputs": [],
   "source": [
    "# create tokenizer object\n",
    "tokenizer = nltk.tokenize.ToktokTokenizer()\n",
    "\n",
    "# tokenize text in description\n",
    "df['description'] = df['description'].apply(lambda value: tokenizer.tokenize(value, return_str=True))\n",
    "\n",
    "df.head()"
   ]
  },
  {
   "cell_type": "code",
   "execution_count": null,
   "id": "unlimited-retro",
   "metadata": {},
   "outputs": [],
   "source": [
    "\n",
    "\n",
    "def lemmatizer(value):\n",
    "    '''Takes in a value from a pandas column and returns the value lemmatized'''\n",
    "    \n",
    "    # create lemmatizer object\n",
    "    wnl = nltk.stem.WordNetLemmatizer()\n",
    "    \n",
    "    # get list of lemmatized words in value\n",
    "    value_lemmas = [wnl.lemmatize(word) for word in value.split()]\n",
    "    \n",
    "    # turn list or words back into a string and return value\n",
    "    return ' '.join(value_lemmas)"
   ]
  },
  {
   "cell_type": "code",
   "execution_count": null,
   "id": "working-hamilton",
   "metadata": {},
   "outputs": [],
   "source": [
    "# lemmatize the text in description\n",
    "df['description'] = df['description'].apply(lambda value: lemmatizer(value))\n",
    "\n",
    "df.head()"
   ]
  },
  {
   "cell_type": "code",
   "execution_count": null,
   "id": "wanted-millennium",
   "metadata": {},
   "outputs": [],
   "source": [
    "def remove_stopwords(value):\n",
    "    \n",
    "    # get list english language stopwords list from nlt\n",
    "    stopword_list = stopwords.words('english')\n",
    "    \n",
    "    # split words in pandas value into a list and remove words from the list that are in stopwords\n",
    "    value_words = value.split()\n",
    "    filtered_list = [word for word in value_words if word not in stopword_list]\n",
    "    \n",
    "    # convert list back into string and return value\n",
    "    return ' '.join(filtered_list)"
   ]
  },
  {
   "cell_type": "code",
   "execution_count": null,
   "id": "worldwide-herald",
   "metadata": {},
   "outputs": [],
   "source": [
    "# remove stopwords from text in description\n",
    "df['description'] = df['description'].apply(lambda value: remove_stopwords(value))\n",
    "\n",
    "df.head()"
   ]
  },
  {
   "cell_type": "code",
   "execution_count": null,
   "id": "vital-process",
   "metadata": {},
   "outputs": [],
   "source": [
    "def remove_cinima_type(value):\n",
    "    '''take in genre text from a pandas column\n",
    "       remove text indicating standalone movie or series\n",
    "       return remainder of the text'''\n",
    "     \n",
    "    value = value.replace(' tv','') \n",
    "    value = value.replace('tv ','')\n",
    "    value = value.replace(' shows','')\n",
    "    value = value.replace(' movies','')\n",
    "    value = value.replace(' series','')\n",
    "    value = value.replace(' features','')\n",
    "    \n",
    "    value = [genre.strip() for genre in value.split(',')]\n",
    "    \n",
    "    return ','.join(value)"
   ]
  },
  {
   "cell_type": "code",
   "execution_count": null,
   "id": "accepting-exemption",
   "metadata": {},
   "outputs": [],
   "source": [
    "df['genre'] = df['genre'].apply(lambda value: remove_cinima_type(value))\n",
    "\n",
    "df.head()"
   ]
  },
  {
   "cell_type": "code",
   "execution_count": null,
   "id": "american-season",
   "metadata": {},
   "outputs": [],
   "source": [
    "df.info()"
   ]
  },
  {
   "cell_type": "code",
   "execution_count": null,
   "id": "experimental-breathing",
   "metadata": {},
   "outputs": [],
   "source": [
    "master_list = []\n",
    "\n",
    "for text in set(df.genre.to_list()):\n",
    "    \n",
    "    value_genres = text.split(', ')\n",
    "    \n",
    "    for item in value_genres:\n",
    "        \n",
    "        master_list.append(item)\n",
    "        \n",
    "print(set(master_list), len(set(master_list)))"
   ]
  },
  {
   "cell_type": "code",
   "execution_count": null,
   "id": "invisible-abuse",
   "metadata": {},
   "outputs": [],
   "source": [
    "def get_genre_list(value):\n",
    "    '''takes in string list of genes from a pandas column\n",
    "       creates a python list of those genres \n",
    "       removes genres in the cut list \n",
    "       returns created list'''\n",
    "    \n",
    "    cut_list = ['international', \n",
    "                'teen', \n",
    "                'korean', \n",
    "                'anime', \n",
    "                'classic & cult', \n",
    "                \"kids'\", \n",
    "                'cult', \n",
    "                'movies', \n",
    "                'shows',\n",
    "                'spanish-language', \n",
    "                'british', \n",
    "                'children & family', \n",
    "                'anime series',\n",
    "                'lgbtq',\n",
    "                'classic', \n",
    "                'international',\n",
    "                'independent',\n",
    "                'sci-fi & fantasy',\n",
    "                'sports',\n",
    "                'faith & spirituality',\n",
    "                'stand-up comedy & talk',\n",
    "                'mysteries']\n",
    "    \n",
    "    genre_list = value.split(',')\n",
    "    genre_list = [genre.strip() for genre in genre_list]\n",
    "    \n",
    "    return [genre for genre in genre_list if genre not in cut_list]"
   ]
  },
  {
   "cell_type": "code",
   "execution_count": null,
   "id": "academic-durham",
   "metadata": {},
   "outputs": [],
   "source": [
    "df['genre_list'] = df['genre'].apply(lambda value: get_genre_list(value))\n",
    "\n",
    "df.head()"
   ]
  },
  {
   "cell_type": "code",
   "execution_count": null,
   "id": "suburban-bunny",
   "metadata": {},
   "outputs": [],
   "source": [
    "# drop rows with empty lists looses 469 rows\n",
    "print(df.shape)\n",
    "df = df[df['genre_list'].map(lambda d: len(d)) > 0]\n",
    "print(df.shape)"
   ]
  },
  {
   "cell_type": "code",
   "execution_count": null,
   "id": "novel-kitchen",
   "metadata": {},
   "outputs": [],
   "source": [
    "def merge_genres(value, merge_list, replacement):\n",
    "    '''Take in a pandas value that is a list of genres\n",
    "       a merge list and a replacement string\n",
    "       If one of the genres in genre_list is in merge_list \n",
    "       return a list containing the replacement string\n",
    "       otherwise return original list'''\n",
    "\n",
    "    # builds list of genres from value matching merge_list\n",
    "    check_list = [genre for genre in value if genre in merge_list]\n",
    "\n",
    "    # if check_list is not empty return list with just documentary\n",
    "    if len(check_list) > 0:\n",
    "        \n",
    "        return [replacement]\n",
    "    \n",
    "    # otherwise return original list\n",
    "    else:\n",
    "        \n",
    "        return value"
   ]
  },
  {
   "cell_type": "code",
   "execution_count": null,
   "id": "prospective-kennedy",
   "metadata": {},
   "outputs": [],
   "source": [
    "merge_list = ['docuseries', 'documentary', 'documentaries']\n",
    "df['genre_list'] = df['genre_list'].apply(lambda value: merge_genres(value,merge_list,'documentaries'))\n",
    "\n",
    "df.head()"
   ]
  },
  {
   "cell_type": "code",
   "execution_count": null,
   "id": "double-queens",
   "metadata": {},
   "outputs": [],
   "source": [
    "merge_list = ['reality']\n",
    "df['genre_list'] = df['genre_list'].apply(lambda value: merge_genres(value,merge_list,'reality'))\n",
    "\n",
    "df.genre_list.value_counts().head(30)"
   ]
  },
  {
   "cell_type": "code",
   "execution_count": null,
   "id": "white-pointer",
   "metadata": {},
   "outputs": [],
   "source": [
    "merge_list = ['music & musicals']\n",
    "df['genre_list'] = df['genre_list'].apply(lambda value: merge_genres(value,merge_list,'music & musicals'))\n",
    "\n",
    "df.genre_list.value_counts().head(30)"
   ]
  },
  {
   "cell_type": "code",
   "execution_count": null,
   "id": "difficult-morgan",
   "metadata": {},
   "outputs": [],
   "source": [
    "merge_list = ['crime']\n",
    "df['genre_list'] = df['genre_list'].apply(lambda value: merge_genres(value,merge_list,'crime'))\n",
    "\n",
    "df.genre_list.value_counts().head(30)"
   ]
  },
  {
   "cell_type": "code",
   "execution_count": null,
   "id": "caroline-camera",
   "metadata": {},
   "outputs": [],
   "source": [
    "def fuse_genre(value, fuse_list, replacement):\n",
    "    \n",
    "    # builds list of genres from value matching fuse_list\n",
    "    check_list = [genre for genre in value if genre in fuse_list]\n",
    "\n",
    "    # if the length of check_list is equal to the length of value return replacement \n",
    "    if (len(check_list) == len(value)) and (len(value) == 2):\n",
    "        \n",
    "        return [replacement]\n",
    "    \n",
    "    # otherwise return original list\n",
    "    else:\n",
    "        \n",
    "        return value"
   ]
  },
  {
   "cell_type": "code",
   "execution_count": null,
   "id": "swedish-macintosh",
   "metadata": {},
   "outputs": [],
   "source": [
    "df['genre_list'] = df['genre_list'].apply(lambda value: fuse_genre(value, ['romantic', 'comedies'], 'romantic comedies'))\n",
    "\n",
    "df.genre_list.value_counts().head(30)"
   ]
  },
  {
   "cell_type": "code",
   "execution_count": null,
   "id": "statewide-visit",
   "metadata": {},
   "outputs": [],
   "source": [
    "df['genre_list'] = df['genre_list'].apply(lambda value: fuse_genre(value, ['comedies', 'dramas'], 'dramatic comedies'))\n",
    "\n",
    "df.genre_list.value_counts().head(30)"
   ]
  },
  {
   "cell_type": "code",
   "execution_count": null,
   "id": "prescribed-hacker",
   "metadata": {},
   "outputs": [],
   "source": [
    "df['genre_list'] = df['genre_list'].apply(lambda value: fuse_genre(value, ['dramas', 'romantic'], 'romantic'))\n",
    "\n",
    "df.genre_list.value_counts().head(30)"
   ]
  },
  {
   "cell_type": "code",
   "execution_count": null,
   "id": "popular-silver",
   "metadata": {},
   "outputs": [],
   "source": [
    "df['genre_list'] = df['genre_list'].apply(lambda value: fuse_genre(value, ['dramas', 'thrillers']  , 'thrillers'))\n",
    "\n",
    "df.genre_list.value_counts().head(30)"
   ]
  },
  {
   "cell_type": "code",
   "execution_count": null,
   "id": "brief-conducting",
   "metadata": {},
   "outputs": [],
   "source": [
    "df['genre_list'] = df['genre_list'].apply(lambda value: fuse_genre(value, ['action & adventure', 'dramas']  , 'thrillers'))\n",
    "\n",
    "df.genre_list.value_counts().head(30)"
   ]
  },
  {
   "cell_type": "code",
   "execution_count": null,
   "id": "clean-enhancement",
   "metadata": {},
   "outputs": [],
   "source": [
    "df['genre_list'] = df['genre_list'].apply(lambda value: fuse_genre(value, ['dramas', 'horror']  , 'horror'))\n",
    "\n",
    "df.genre_list.value_counts().head(30)"
   ]
  },
  {
   "cell_type": "code",
   "execution_count": null,
   "id": "brutal-seller",
   "metadata": {},
   "outputs": [],
   "source": [
    "def remove_genre(value, genre, val_len):\n",
    "    \n",
    "    if (len(value) >= val_len) and (genre in value):\n",
    "        \n",
    "        value.remove(genre)\n",
    "        \n",
    "    return value"
   ]
  },
  {
   "cell_type": "code",
   "execution_count": null,
   "id": "hearing-possibility",
   "metadata": {},
   "outputs": [],
   "source": [
    "df['genre_list'] = df['genre_list'].apply(lambda value: remove_genre(value,'dramas', 3))\n",
    "\n",
    "df.genre_list.value_counts().head(30)"
   ]
  },
  {
   "cell_type": "code",
   "execution_count": null,
   "id": "loving-marketplace",
   "metadata": {},
   "outputs": [],
   "source": [
    "df['genre_list'] = df['genre_list'].apply(lambda value: fuse_genre(value, ['romantic', 'comedies'], 'romantic comedies'))\n",
    "\n",
    "df.genre_list.value_counts().head(30)"
   ]
  },
  {
   "cell_type": "code",
   "execution_count": null,
   "id": "unsigned-ordinance",
   "metadata": {},
   "outputs": [],
   "source": [
    "merge_list = ['horror']\n",
    "df['genre_list'] = df['genre_list'].apply(lambda value: merge_genres(value,merge_list,'horror'))\n",
    "\n",
    "df.genre_list.value_counts().head(99)"
   ]
  },
  {
   "cell_type": "code",
   "execution_count": null,
   "id": "electronic-magnitude",
   "metadata": {},
   "outputs": [],
   "source": [
    "df['genre_list'] = df['genre_list'].apply(lambda value: fuse_genre(value, ['action & adventure', 'comedies'], 'action & adventure comedies'))\n",
    "\n",
    "df.genre_list.value_counts().head(99)"
   ]
  },
  {
   "cell_type": "code",
   "execution_count": null,
   "id": "alternate-lincoln",
   "metadata": {},
   "outputs": [],
   "source": [
    "print(df.shape)\n",
    "df = df[df['genre_list'].map(lambda d: len(d)) == 1]\n",
    "print(df.shape)"
   ]
  },
  {
   "cell_type": "code",
   "execution_count": null,
   "id": "psychological-wayne",
   "metadata": {},
   "outputs": [],
   "source": [
    "df.head()"
   ]
  },
  {
   "cell_type": "code",
   "execution_count": null,
   "id": "alternative-taxation",
   "metadata": {},
   "outputs": [],
   "source": [
    "df['genre'] = df.genre_list.apply(lambda value: value[0])\n",
    "df.head()"
   ]
  },
  {
   "cell_type": "code",
   "execution_count": null,
   "id": "crazy-petroleum",
   "metadata": {},
   "outputs": [],
   "source": [
    "df = df.drop(columns = 'genre_list')\n",
    "\n",
    "df.head()"
   ]
  },
  {
   "cell_type": "code",
   "execution_count": null,
   "id": "strong-removal",
   "metadata": {},
   "outputs": [],
   "source": [
    "set(df.genre.to_list())"
   ]
  },
  {
   "cell_type": "code",
   "execution_count": null,
   "id": "individual-giving",
   "metadata": {},
   "outputs": [],
   "source": []
  }
 ],
 "metadata": {
  "kernelspec": {
   "display_name": "Python 3",
   "language": "python",
   "name": "python3"
  },
  "language_info": {
   "codemirror_mode": {
    "name": "ipython",
    "version": 3
   },
   "file_extension": ".py",
   "mimetype": "text/x-python",
   "name": "python",
   "nbconvert_exporter": "python",
   "pygments_lexer": "ipython3",
   "version": "3.7.4"
  }
 },
 "nbformat": 4,
 "nbformat_minor": 5
}

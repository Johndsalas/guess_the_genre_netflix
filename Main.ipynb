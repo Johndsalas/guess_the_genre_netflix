{
 "cells": [
  {
   "cell_type": "markdown",
   "id": "limited-colonial",
   "metadata": {},
   "source": [
    "# Imports"
   ]
  },
  {
   "cell_type": "code",
   "execution_count": 1,
   "id": "upset-deployment",
   "metadata": {},
   "outputs": [],
   "source": [
    "import pandas as pd\n",
    "import re\n",
    "\n",
    "import warnings\n",
    "warnings.filterwarnings('ignore')\n",
    "\n",
    "import unicodedata\n",
    "import nltk\n",
    "from nltk.tokenize.toktok import ToktokTokenizer\n",
    "from nltk.corpus import stopwords\n",
    "\n",
    "import matplotlib.pyplot as plt\n",
    "import seaborn as sns\n",
    "import os\n",
    "\n",
    "from sklearn.model_selection import train_test_split\n",
    "import sklearn.preprocessing\n",
    "from sklearn.tree import DecisionTreeClassifier\n",
    "from sklearn.ensemble import RandomForestClassifier\n",
    "from sklearn.neighbors import KNeighborsClassifier\n",
    "from sklearn.linear_model import LogisticRegression\n",
    "\n",
    "import wrangle as w\n",
    "import explore as e\n",
    "import modeling as m"
   ]
  },
  {
   "cell_type": "markdown",
   "id": "understanding-hierarchy",
   "metadata": {},
   "source": [
    "# Acquire\n",
    "\n",
    "* Data aquired from [Kaggle](https://www.kaggle.com/satpreetmakhija/netflix-movies-and-tv-shows-2021) on 2/04/2022\n",
    "* Each observation represents on movie or film series \n",
    "* Because the distinction between a single movie an a multi-part series is not relevant to this study I will be referring to each as a movie for the duration of this study\n",
    "* The original data set had 5967 rows and 13 columns"
   ]
  },
  {
   "cell_type": "markdown",
   "id": "minor-enlargement",
   "metadata": {},
   "source": [
    "# Prepare\n",
    "\n",
    "* The dataframe retained 5447 and 2 columns after preperarion\n",
    "* Data was prepared using the fillowing steps:\n",
    "    * Drop all columns other than 'description' and 'genre'\n",
    "    * Lowercased text in both columns\n",
    "    * Lowercased column names\n",
    "    * Prepared text in 'description' for exploration using the following steps:\n",
    "      * Removed all non-ascii and special characters form the text\n",
    "      * Tokenized the words in the text\n",
    "      * Lemmatized the words in the text\n",
    "      * Removed stopwords\n",
    "    * my goal for genre was to insure that each film only represented one genre after preperation\n",
    "    * Prepared genre text using the following steps:\n",
    "      * Removed text indicating if a film is a standalone movie or series\n",
    "      * Created new column of curated list of genres       \n",
    "      * The following genres were removed because they do not refer the films theam:\n",
    "          * international\n",
    "          * korean\n",
    "          * teen\n",
    "          * british\n",
    "          * spanish-language \n",
    "          * independent\n",
    "          * anime\n",
    "          * kids\n",
    "          * children & family    \n",
    "          * classic & cult\n",
    "          * classic\n",
    "          * cult\n",
    "      * The following genres were removed due to low representation\n",
    "          * lgbtq\n",
    "          * sci-fi & fantasy\n",
    "          * sports\n",
    "          * faith & spirituality\n",
    "          * stand-up comedy & talk\n",
    "          * mysteries    \n",
    "      * Merged films with docuseries, documentary, or documentaries in it's genre list together into one genre documentaries\n",
    "      * Merged together films with the following geres together under that genre alone\n",
    "          * reality\n",
    "          * music & musicals\n",
    "          * crime\n",
    "          * horror\n",
    "      * Removed dramas from genre lists that contained three or more genes\n",
    "      * Fused together the following genres to create new genres\n",
    "          * romantic and comedies are now romantic comedies\n",
    "          * dramas and comedies are now dramitic comedies\n",
    "          * action & adventure and comedies are now action & adventure comedies\n",
    "      * Removed drama from films that had other genres\n",
    "      * Dropped rows that had more than one genre\n",
    "      * Overwrote genre using the genres from genre_list\n",
    "      * Dropped nans from genre created by unpacking an empty string in the above step\n",
    "      * Saved prepared data to 'preped_movies.csv'\n",
    "      * Split data into train, validate, and test stradifying on genre"
   ]
  },
  {
   "cell_type": "code",
   "execution_count": 2,
   "id": "prescription-citizenship",
   "metadata": {},
   "outputs": [],
   "source": [
    "# acquire and prepare the data\n",
    "train, validate, test = w.split_my_data(w.get_my_movie_data())"
   ]
  },
  {
   "cell_type": "markdown",
   "id": "honey-tumor",
   "metadata": {},
   "source": [
    "# Explore"
   ]
  },
  {
   "cell_type": "markdown",
   "id": "objective-james",
   "metadata": {},
   "source": [
    "### What is the distribution of genres?"
   ]
  },
  {
   "cell_type": "code",
   "execution_count": 3,
   "id": "german-angle",
   "metadata": {},
   "outputs": [
    {
     "data": {
      "image/png": "[encoded data removed]",
      "text/plain": [
       "<Figure size 432x288 with 1 Axes>"
      ]
     },
     "metadata": {
      "needs_background": "light"
     },
     "output_type": "display_data"
    }
   ],
   "source": [
    "train.genre.value_counts(normalize=True).sort_values().plot(kind = 'barh', title = \"Darmas, Documentaries, and Comedies are Makeup Over 40% of the Data\")\n",
    "plt.show()"
   ]
  },
  {
   "cell_type": "markdown",
   "id": "perfect-counter",
   "metadata": {},
   "source": [
    "* The top three genres represent over 40% of the data"
   ]
  },
  {
   "cell_type": "markdown",
   "id": "renewable-marshall",
   "metadata": {},
   "source": [
    "### What are the most common words used across all genres?"
   ]
  },
  {
   "cell_type": "code",
   "execution_count": 4,
   "id": "passive-hurricane",
   "metadata": {},
   "outputs": [
    {
     "data": {
      "text/plain": [
       "2138    sick keeping love secret constantly bickering ...\n",
       "1551    love air zoe friend go quest find fabled maid ...\n",
       "1918    intimate indepth look beyonces celebrated 2018...\n",
       "2324    crazed killer blaze trail blood anxious city h...\n",
       "3049    competition show novice baker try avoid fiasco...\n",
       "                              ...                        \n",
       "1633    secret act skillful revenge four private schoo...\n",
       "1741    argentine journalist strives prove countryman ...\n",
       "660     wrongfully convicted fraud honest man find lif...\n",
       "2651    spanish adaptation magic human folk age street...\n",
       "1949    pair friend uncover weed bible magical stash g...\n",
       "Name: description, Length: 3049, dtype: object"
      ]
     },
     "execution_count": 4,
     "metadata": {},
     "output_type": "execute_result"
    }
   ],
   "source": [
    "train.description"
   ]
  },
  {
   "cell_type": "code",
   "execution_count": 11,
   "id": "silver-healthcare",
   "metadata": {},
   "outputs": [],
   "source": [
    "def bag_of_words(text):\n",
    "    \n",
    "    return text.split(' ')"
   ]
  },
  {
   "cell_type": "code",
   "execution_count": null,
   "id": "supposed-class",
   "metadata": {},
   "outputs": [],
   "source": [
    "all_words = ' '.join(train.description).split(' ')\n",
    "\n",
    "all_freq = pd.Series(all_words).value_counts()\n",
    "\n",
    "all_freq.head(20).plot(kind = 'barh', title = \"Top 20 Most Frequent Words Across All Genres\")"
   ]
  },
  {
   "cell_type": "code",
   "execution_count": 18,
   "id": "renewable-petersburg",
   "metadata": {},
   "outputs": [
    {
     "data": {
      "image/png": "[encoded data removed]",
      "text/plain": [
       "<Figure size 432x288 with 1 Axes>"
      ]
     },
     "metadata": {
      "needs_background": "light"
     },
     "output_type": "display_data"
    }
   ],
   "source": [
    "all_freq = pd.Series(all_words).value_counts().head(20).sort_values(ascending = True)\n",
    "all_freq.plot(kind = 'barh', title = \"Top 20 Most Frequent Words Across All Genres\")\n",
    "plt.show()"
   ]
  },
  {
   "cell_type": "code",
   "execution_count": null,
   "id": "african-timer",
   "metadata": {},
   "outputs": [],
   "source": []
  }
 ],
 "metadata": {
  "kernelspec": {
   "display_name": "Python 3",
   "language": "python",
   "name": "python3"
  },
  "language_info": {
   "codemirror_mode": {
    "name": "ipython",
    "version": 3
   },
   "file_extension": ".py",
   "mimetype": "text/x-python",
   "name": "python",
   "nbconvert_exporter": "python",
   "pygments_lexer": "ipython3",
   "version": "3.7.4"
  }
 },
 "nbformat": 4,
 "nbformat_minor": 5
}

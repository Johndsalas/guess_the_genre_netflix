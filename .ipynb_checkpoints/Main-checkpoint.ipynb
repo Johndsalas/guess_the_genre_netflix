{
 "cells": [
  {
   "cell_type": "markdown",
   "id": "limited-colonial",
   "metadata": {},
   "source": [
    "# Imports"
   ]
  },
  {
   "cell_type": "code",
   "execution_count": 1,
   "id": "upset-deployment",
   "metadata": {},
   "outputs": [],
   "source": [
    "import pandas as pd\n",
    "import re\n",
    "\n",
    "import unicodedata\n",
    "import nltk\n",
    "from nltk.tokenize.toktok import ToktokTokenizer\n",
    "from nltk.corpus import stopwords\n",
    "\n",
    "import wrangle as w\n",
    "import explore as e\n",
    "import modeling as m"
   ]
  },
  {
   "cell_type": "markdown",
   "id": "understanding-hierarchy",
   "metadata": {},
   "source": [
    "# Acquire\n",
    "\n",
    "* Data aquired from [Kaggle](https://www.kaggle.com/satpreetmakhija/netflix-movies-and-tv-shows-2021) on 2/04/2022\n",
    "* Each observation represents on movie or film series \n",
    "* Because the distinction between a single movie an a multi-part series is not relevant to this study I will be referring to each as a movie for the duration of this study\n",
    "* The original data set had 5967 rows and 13 columns"
   ]
  },
  {
   "cell_type": "code",
   "execution_count": 2,
   "id": "exceptional-judge",
   "metadata": {},
   "outputs": [
    {
     "data": {
      "text/html": [
       "<div>\n",
       "<style scoped>\n",
       "    .dataframe tbody tr th:only-of-type {\n",
       "        vertical-align: middle;\n",
       "    }\n",
       "\n",
       "    .dataframe tbody tr th {\n",
       "        vertical-align: top;\n",
       "    }\n",
       "\n",
       "    .dataframe thead th {\n",
       "        text-align: right;\n",
       "    }\n",
       "</style>\n",
       "<table border=\"1\" class=\"dataframe\">\n",
       "  <thead>\n",
       "    <tr style=\"text-align: right;\">\n",
       "      <th></th>\n",
       "      <th>Show Id</th>\n",
       "      <th>Title</th>\n",
       "      <th>Description</th>\n",
       "      <th>Director</th>\n",
       "      <th>Genres</th>\n",
       "      <th>Cast</th>\n",
       "      <th>Production Country</th>\n",
       "      <th>Release Date</th>\n",
       "      <th>Rating</th>\n",
       "      <th>Duration</th>\n",
       "      <th>Imdb Score</th>\n",
       "      <th>Content Type</th>\n",
       "      <th>Date Added</th>\n",
       "    </tr>\n",
       "  </thead>\n",
       "  <tbody>\n",
       "    <tr>\n",
       "      <th>0</th>\n",
       "      <td>cc1b6ed9-cf9e-4057-8303-34577fb54477</td>\n",
       "      <td>(Un)Well</td>\n",
       "      <td>This docuseries takes a deep dive into the luc...</td>\n",
       "      <td>NaN</td>\n",
       "      <td>Reality TV</td>\n",
       "      <td>NaN</td>\n",
       "      <td>United States</td>\n",
       "      <td>2020.0</td>\n",
       "      <td>TV-MA</td>\n",
       "      <td>1 Season</td>\n",
       "      <td>6.6/10</td>\n",
       "      <td>TV Show</td>\n",
       "      <td>NaN</td>\n",
       "    </tr>\n",
       "    <tr>\n",
       "      <th>1</th>\n",
       "      <td>e2ef4e91-fb25-42ab-b485-be8e3b23dedb</td>\n",
       "      <td>#Alive</td>\n",
       "      <td>As a grisly virus rampages a city, a lone man ...</td>\n",
       "      <td>Cho Il</td>\n",
       "      <td>Horror Movies, International Movies, Thrillers</td>\n",
       "      <td>Yoo Ah-in, Park Shin-hye</td>\n",
       "      <td>South Korea</td>\n",
       "      <td>2020.0</td>\n",
       "      <td>TV-MA</td>\n",
       "      <td>99 min</td>\n",
       "      <td>6.2/10</td>\n",
       "      <td>Movie</td>\n",
       "      <td>September 8, 2020</td>\n",
       "    </tr>\n",
       "    <tr>\n",
       "      <th>2</th>\n",
       "      <td>b01b73b7-81f6-47a7-86d8-acb63080d525</td>\n",
       "      <td>#AnneFrank - Parallel Stories</td>\n",
       "      <td>Through her diary, Anne Frank's story is retol...</td>\n",
       "      <td>Sabina Fedeli, Anna Migotto</td>\n",
       "      <td>Documentaries, International Movies</td>\n",
       "      <td>Helen Mirren, Gengher Gatti</td>\n",
       "      <td>Italy</td>\n",
       "      <td>2019.0</td>\n",
       "      <td>TV-14</td>\n",
       "      <td>95 min</td>\n",
       "      <td>6.4/10</td>\n",
       "      <td>Movie</td>\n",
       "      <td>July 1, 2020</td>\n",
       "    </tr>\n",
       "    <tr>\n",
       "      <th>3</th>\n",
       "      <td>b6611af0-f53c-4a08-9ffa-9716dc57eb9c</td>\n",
       "      <td>#blackAF</td>\n",
       "      <td>Kenya Barris and his family navigate relations...</td>\n",
       "      <td>NaN</td>\n",
       "      <td>TV Comedies</td>\n",
       "      <td>Kenya Barris, Rashida Jones, Iman Benson, Genn...</td>\n",
       "      <td>United States</td>\n",
       "      <td>2020.0</td>\n",
       "      <td>TV-MA</td>\n",
       "      <td>1 Season</td>\n",
       "      <td>6.6/10</td>\n",
       "      <td>TV Show</td>\n",
       "      <td>NaN</td>\n",
       "    </tr>\n",
       "    <tr>\n",
       "      <th>4</th>\n",
       "      <td>7f2d4170-bab8-4d75-adc2-197f7124c070</td>\n",
       "      <td>#cats_the_mewvie</td>\n",
       "      <td>This pawesome documentary explores how our fel...</td>\n",
       "      <td>Michael Margolis</td>\n",
       "      <td>Documentaries, International Movies</td>\n",
       "      <td>NaN</td>\n",
       "      <td>Canada</td>\n",
       "      <td>2020.0</td>\n",
       "      <td>TV-14</td>\n",
       "      <td>90 min</td>\n",
       "      <td>5.1/10</td>\n",
       "      <td>Movie</td>\n",
       "      <td>February 5, 2020</td>\n",
       "    </tr>\n",
       "  </tbody>\n",
       "</table>\n",
       "</div>"
      ],
      "text/plain": [
       "                                Show Id                          Title  \\\n",
       "0  cc1b6ed9-cf9e-4057-8303-34577fb54477                       (Un)Well   \n",
       "1  e2ef4e91-fb25-42ab-b485-be8e3b23dedb                         #Alive   \n",
       "2  b01b73b7-81f6-47a7-86d8-acb63080d525  #AnneFrank - Parallel Stories   \n",
       "3  b6611af0-f53c-4a08-9ffa-9716dc57eb9c                       #blackAF   \n",
       "4  7f2d4170-bab8-4d75-adc2-197f7124c070               #cats_the_mewvie   \n",
       "\n",
       "                                         Description  \\\n",
       "0  This docuseries takes a deep dive into the luc...   \n",
       "1  As a grisly virus rampages a city, a lone man ...   \n",
       "2  Through her diary, Anne Frank's story is retol...   \n",
       "3  Kenya Barris and his family navigate relations...   \n",
       "4  This pawesome documentary explores how our fel...   \n",
       "\n",
       "                      Director  \\\n",
       "0                          NaN   \n",
       "1                       Cho Il   \n",
       "2  Sabina Fedeli, Anna Migotto   \n",
       "3                          NaN   \n",
       "4             Michael Margolis   \n",
       "\n",
       "                                           Genres  \\\n",
       "0                                      Reality TV   \n",
       "1  Horror Movies, International Movies, Thrillers   \n",
       "2             Documentaries, International Movies   \n",
       "3                                     TV Comedies   \n",
       "4             Documentaries, International Movies   \n",
       "\n",
       "                                                Cast Production Country  \\\n",
       "0                                                NaN      United States   \n",
       "1                           Yoo Ah-in, Park Shin-hye        South Korea   \n",
       "2                        Helen Mirren, Gengher Gatti              Italy   \n",
       "3  Kenya Barris, Rashida Jones, Iman Benson, Genn...      United States   \n",
       "4                                                NaN             Canada   \n",
       "\n",
       "   Release Date Rating  Duration Imdb Score Content Type         Date Added  \n",
       "0        2020.0  TV-MA  1 Season     6.6/10      TV Show                NaN  \n",
       "1        2020.0  TV-MA    99 min     6.2/10        Movie  September 8, 2020  \n",
       "2        2019.0  TV-14    95 min     6.4/10        Movie       July 1, 2020  \n",
       "3        2020.0  TV-MA  1 Season     6.6/10      TV Show                NaN  \n",
       "4        2020.0  TV-14    90 min     5.1/10        Movie   February 5, 2020  "
      ]
     },
     "execution_count": 2,
     "metadata": {},
     "output_type": "execute_result"
    }
   ],
   "source": [
    "# read the csv into pandas\n",
    "df = w.get_movie_data()\n",
    "df.head()"
   ]
  },
  {
   "cell_type": "markdown",
   "id": "minor-enlargement",
   "metadata": {},
   "source": [
    "# Prepare"
   ]
  },
  {
   "cell_type": "code",
   "execution_count": 3,
   "id": "prescription-citizenship",
   "metadata": {},
   "outputs": [
    {
     "name": "stderr",
     "output_type": "stream",
     "text": [
      "/Users/johnsalas/Desktop/git_repositories/data_science_projects/guess_the_genre_netflix/wrangle.py:84: SettingWithCopyWarning: \n",
      "A value is trying to be set on a copy of a slice from a DataFrame.\n",
      "Try using .loc[row_indexer,col_indexer] = value instead\n",
      "\n",
      "See the caveats in the documentation: https://pandas.pydata.org/pandas-docs/stable/user_guide/indexing.html#returning-a-view-versus-a-copy\n",
      "  df['Description'] = df['Description'].apply(lambda value: value.lower())\n",
      "/Users/johnsalas/Desktop/git_repositories/data_science_projects/guess_the_genre_netflix/wrangle.py:85: SettingWithCopyWarning: \n",
      "A value is trying to be set on a copy of a slice from a DataFrame.\n",
      "Try using .loc[row_indexer,col_indexer] = value instead\n",
      "\n",
      "See the caveats in the documentation: https://pandas.pydata.org/pandas-docs/stable/user_guide/indexing.html#returning-a-view-versus-a-copy\n",
      "  df['Genres'] = df['Genres'].apply(lambda value: value.lower())\n"
     ]
    },
    {
     "data": {
      "text/html": [
       "<div>\n",
       "<style scoped>\n",
       "    .dataframe tbody tr th:only-of-type {\n",
       "        vertical-align: middle;\n",
       "    }\n",
       "\n",
       "    .dataframe tbody tr th {\n",
       "        vertical-align: top;\n",
       "    }\n",
       "\n",
       "    .dataframe thead th {\n",
       "        text-align: right;\n",
       "    }\n",
       "</style>\n",
       "<table border=\"1\" class=\"dataframe\">\n",
       "  <thead>\n",
       "    <tr style=\"text-align: right;\">\n",
       "      <th></th>\n",
       "      <th>description</th>\n",
       "      <th>genre</th>\n",
       "    </tr>\n",
       "  </thead>\n",
       "  <tbody>\n",
       "    <tr>\n",
       "      <th>0</th>\n",
       "      <td>docuseries take deep dive lucrative wellness i...</td>\n",
       "      <td>reality tv</td>\n",
       "    </tr>\n",
       "    <tr>\n",
       "      <th>1</th>\n",
       "      <td>grisly virus rampage city lone man stay locked...</td>\n",
       "      <td>horror movies, international movies, thrillers</td>\n",
       "    </tr>\n",
       "    <tr>\n",
       "      <th>2</th>\n",
       "      <td>diary anne frank story retold alongside five h...</td>\n",
       "      <td>documentaries, international movies</td>\n",
       "    </tr>\n",
       "    <tr>\n",
       "      <th>3</th>\n",
       "      <td>kenya barris family navigate relationship race...</td>\n",
       "      <td>tv comedies</td>\n",
       "    </tr>\n",
       "    <tr>\n",
       "      <th>4</th>\n",
       "      <td>pawesome documentary explores feline friend be...</td>\n",
       "      <td>documentaries, international movies</td>\n",
       "    </tr>\n",
       "  </tbody>\n",
       "</table>\n",
       "</div>"
      ],
      "text/plain": [
       "                                         description  \\\n",
       "0  docuseries take deep dive lucrative wellness i...   \n",
       "1  grisly virus rampage city lone man stay locked...   \n",
       "2  diary anne frank story retold alongside five h...   \n",
       "3  kenya barris family navigate relationship race...   \n",
       "4  pawesome documentary explores feline friend be...   \n",
       "\n",
       "                                            genre  \n",
       "0                                      reality tv  \n",
       "1  horror movies, international movies, thrillers  \n",
       "2             documentaries, international movies  \n",
       "3                                     tv comedies  \n",
       "4             documentaries, international movies  "
      ]
     },
     "execution_count": 3,
     "metadata": {},
     "output_type": "execute_result"
    }
   ],
   "source": [
    "df_nope = w.prep_movie_data(w.get_movie_data())\n",
    "df_nope.head()"
   ]
  },
  {
   "cell_type": "code",
   "execution_count": null,
   "id": "moved-musical",
   "metadata": {},
   "outputs": [],
   "source": [
    "df = w.get_movie_data()\n",
    "df.head()"
   ]
  },
  {
   "cell_type": "code",
   "execution_count": null,
   "id": "specific-native",
   "metadata": {},
   "outputs": [],
   "source": [
    "df = df[['Description','Genres']]\n",
    "df.head()"
   ]
  },
  {
   "cell_type": "code",
   "execution_count": null,
   "id": "virtual-convention",
   "metadata": {},
   "outputs": [],
   "source": [
    "# Lowercase all of the letters in both columns\n",
    "df['Description'] = df['Description'].apply(lambda value: value.lower())\n",
    "df['Genres'] = df['Genres'].apply(lambda value: value.lower())\n",
    "df.head()"
   ]
  },
  {
   "cell_type": "code",
   "execution_count": null,
   "id": "timely-bumper",
   "metadata": {},
   "outputs": [],
   "source": [
    "# rename columns\n",
    "df.rename(columns={'Description':'description', 'Genres':'genre'}, inplace = True)\n",
    "df.head()"
   ]
  },
  {
   "cell_type": "code",
   "execution_count": null,
   "id": "african-basics",
   "metadata": {},
   "outputs": [],
   "source": [
    "# remove non-ascii characters from description text \n",
    "df['description'] = df['description'].apply(lambda value: unicodedata.normalize('NFKD', value)\\\n",
    "                                                                     .encode('ascii', 'ignore')\\\n",
    "                                                                     .decode('utf-8', 'ignore'))\n",
    "df.head()"
   ]
  },
  {
   "cell_type": "code",
   "execution_count": null,
   "id": "narrow-brunei",
   "metadata": {},
   "outputs": [],
   "source": [
    "# remove special characters from description text\n",
    "df['description'] = df['description'].apply(lambda value: re.sub(r\"[^a-z0-9\\s]\", '', value))\n",
    "\n",
    "df.head()"
   ]
  },
  {
   "cell_type": "code",
   "execution_count": null,
   "id": "juvenile-median",
   "metadata": {},
   "outputs": [],
   "source": [
    "# create tokenizer object\n",
    "tokenizer = nltk.tokenize.ToktokTokenizer()\n",
    "\n",
    "# tokenize text in description\n",
    "df['description'] = df['description'].apply(lambda value: tokenizer.tokenize(value, return_str=True))\n",
    "\n",
    "df.head()"
   ]
  },
  {
   "cell_type": "code",
   "execution_count": null,
   "id": "unlimited-retro",
   "metadata": {},
   "outputs": [],
   "source": [
    "\n",
    "\n",
    "def lemmatizer(value):\n",
    "    '''Takes in a value from a pandas column and returns the value lemmatized'''\n",
    "    \n",
    "    # create lemmatizer object\n",
    "    wnl = nltk.stem.WordNetLemmatizer()\n",
    "    \n",
    "    # get list of lemmatized words in value\n",
    "    value_lemmas = [wnl.lemmatize(word) for word in value.split()]\n",
    "    \n",
    "    # turn list or words back into a string and return value\n",
    "    return ' '.join(value_lemmas)"
   ]
  },
  {
   "cell_type": "code",
   "execution_count": null,
   "id": "working-hamilton",
   "metadata": {},
   "outputs": [],
   "source": [
    "# lemmatize the text in description\n",
    "df['description'] = df['description'].apply(lambda value: lemmatizer(value))\n",
    "\n",
    "df.head()"
   ]
  },
  {
   "cell_type": "code",
   "execution_count": null,
   "id": "wanted-millennium",
   "metadata": {},
   "outputs": [],
   "source": [
    "def remove_stopwords(value):\n",
    "    \n",
    "    # get list english language stopwords list from nlt\n",
    "    stopword_list = stopwords.words('english')\n",
    "    \n",
    "    # split words in pandas value into a list and remove words from the list that are in stopwords\n",
    "    value_words = value.split()\n",
    "    filtered_list = [word for word in value_words if word not in stopword_list]\n",
    "    \n",
    "    # convert list back into string and return value\n",
    "    return ' '.join(filtered_list)"
   ]
  },
  {
   "cell_type": "code",
   "execution_count": null,
   "id": "worldwide-herald",
   "metadata": {},
   "outputs": [],
   "source": [
    "# remove stopwords from text in description\n",
    "df['description'] = df['description'].apply(lambda value: remove_stopwords(value))\n",
    "\n",
    "df.head()"
   ]
  },
  {
   "cell_type": "code",
   "execution_count": null,
   "id": "vital-process",
   "metadata": {},
   "outputs": [],
   "source": [
    "def remove_cinima_type(value):\n",
    "    '''take in genre text from a pandas column\n",
    "       remove text indicating standalone movie or series\n",
    "       return remainder of the text'''\n",
    "     \n",
    "    value = value.replace(' tv','') \n",
    "    value = value.replace('tv ','')\n",
    "    value = value.replace(' shows','')\n",
    "    value = value.replace(' movies','')\n",
    "    value = value.replace(' series','')\n",
    "    value = value.replace(' features','')\n",
    "    \n",
    "    value = [genre.strip() for genre in value.split(',')]\n",
    "    \n",
    "    return ','.join(value)"
   ]
  },
  {
   "cell_type": "code",
   "execution_count": null,
   "id": "accepting-exemption",
   "metadata": {},
   "outputs": [],
   "source": [
    "df['genre'] = df['genre'].apply(lambda value: remove_cinima_type(value))\n",
    "\n",
    "df.head()"
   ]
  },
  {
   "cell_type": "code",
   "execution_count": null,
   "id": "american-season",
   "metadata": {},
   "outputs": [],
   "source": [
    "df.info()"
   ]
  },
  {
   "cell_type": "code",
   "execution_count": null,
   "id": "experimental-breathing",
   "metadata": {},
   "outputs": [],
   "source": [
    "master_list = []\n",
    "\n",
    "for text in set(df.genre.to_list()):\n",
    "    \n",
    "    value_genres = text.split(', ')\n",
    "    \n",
    "    for item in value_genres:\n",
    "        \n",
    "        master_list.append(item)\n",
    "        \n",
    "print(set(master_list), len(set(master_list)))"
   ]
  },
  {
   "cell_type": "code",
   "execution_count": null,
   "id": "invisible-abuse",
   "metadata": {},
   "outputs": [],
   "source": [
    "def get_genre_list(value):\n",
    "    '''takes in string list of genes from a pandas column\n",
    "       creates a python list of those genres \n",
    "       removes genres in the cut list \n",
    "       returns created list'''\n",
    "    \n",
    "    cut_list = ['international', \n",
    "                'teen', \n",
    "                'korean', \n",
    "                'anime', \n",
    "                'classic & cult', \n",
    "                \"kids'\", \n",
    "                'cult', \n",
    "                'movies', \n",
    "                'shows',\n",
    "                'spanish-language', \n",
    "                'british', \n",
    "                'children & family', \n",
    "                'anime series',\n",
    "                'lgbtq',\n",
    "                'classic', \n",
    "                'international',\n",
    "                'independent',\n",
    "                'sci-fi & fantasy',\n",
    "                'sports',\n",
    "                'faith & spirituality',\n",
    "                'stand-up comedy & talk',\n",
    "                'mysteries']\n",
    "    \n",
    "    genre_list = value.split(',')\n",
    "    genre_list = [genre.strip() for genre in genre_list]\n",
    "    \n",
    "    return [genre for genre in genre_list if genre not in cut_list]"
   ]
  },
  {
   "cell_type": "code",
   "execution_count": null,
   "id": "academic-durham",
   "metadata": {},
   "outputs": [],
   "source": [
    "df['genre_list'] = df['genre'].apply(lambda value: get_genre_list(value))\n",
    "\n",
    "df.head()"
   ]
  },
  {
   "cell_type": "code",
   "execution_count": null,
   "id": "suburban-bunny",
   "metadata": {},
   "outputs": [],
   "source": [
    "# drop rows with empty lists looses 469 rows\n",
    "print(df.shape)\n",
    "df = df[df['genre_list'].map(lambda d: len(d)) > 0]\n",
    "print(df.shape)"
   ]
  },
  {
   "cell_type": "code",
   "execution_count": null,
   "id": "novel-kitchen",
   "metadata": {},
   "outputs": [],
   "source": [
    "def merge_genres(value, merge_list, replacement):\n",
    "    '''Take in a pandas value that is a list of genres\n",
    "       a merge list and a replacement string\n",
    "       If one of the genres in genre_list is in merge_list \n",
    "       return a list containing the replacement string\n",
    "       otherwise return original list'''\n",
    "\n",
    "    # builds list of genres from value matching merge_list\n",
    "    check_list = [genre for genre in value if genre in merge_list]\n",
    "\n",
    "    # if check_list is not empty return list with just documentary\n",
    "    if len(check_list) > 0:\n",
    "        \n",
    "        return [replacement]\n",
    "    \n",
    "    # otherwise return original list\n",
    "    else:\n",
    "        \n",
    "        return value"
   ]
  },
  {
   "cell_type": "code",
   "execution_count": null,
   "id": "prospective-kennedy",
   "metadata": {},
   "outputs": [],
   "source": [
    "merge_list = ['docuseries', 'documentary', 'documentaries']\n",
    "df['genre_list'] = df['genre_list'].apply(lambda value: merge_genres(value,merge_list,'documentaries'))\n",
    "\n",
    "df.head()"
   ]
  },
  {
   "cell_type": "code",
   "execution_count": null,
   "id": "double-queens",
   "metadata": {},
   "outputs": [],
   "source": [
    "merge_list = ['reality']\n",
    "df['genre_list'] = df['genre_list'].apply(lambda value: merge_genres(value,merge_list,'reality'))\n",
    "\n",
    "df.genre_list.value_counts().head(30)"
   ]
  },
  {
   "cell_type": "code",
   "execution_count": null,
   "id": "white-pointer",
   "metadata": {},
   "outputs": [],
   "source": [
    "merge_list = ['music & musicals']\n",
    "df['genre_list'] = df['genre_list'].apply(lambda value: merge_genres(value,merge_list,'music & musicals'))\n",
    "\n",
    "df.genre_list.value_counts().head(30)"
   ]
  },
  {
   "cell_type": "code",
   "execution_count": null,
   "id": "difficult-morgan",
   "metadata": {},
   "outputs": [],
   "source": [
    "merge_list = ['crime']\n",
    "df['genre_list'] = df['genre_list'].apply(lambda value: merge_genres(value,merge_list,'crime'))\n",
    "\n",
    "df.genre_list.value_counts().head(30)"
   ]
  },
  {
   "cell_type": "code",
   "execution_count": null,
   "id": "caroline-camera",
   "metadata": {},
   "outputs": [],
   "source": [
    "def fuse_genre(value, fuse_list, replacement):\n",
    "    \n",
    "    # builds list of genres from value matching fuse_list\n",
    "    check_list = [genre for genre in value if genre in fuse_list]\n",
    "\n",
    "    # if the length of check_list is equal to the length of value return replacement \n",
    "    if (len(check_list) == len(value)) and (len(value) == 2):\n",
    "        \n",
    "        return [replacement]\n",
    "    \n",
    "    # otherwise return original list\n",
    "    else:\n",
    "        \n",
    "        return value"
   ]
  },
  {
   "cell_type": "code",
   "execution_count": null,
   "id": "swedish-macintosh",
   "metadata": {},
   "outputs": [],
   "source": [
    "df['genre_list'] = df['genre_list'].apply(lambda value: fuse_genre(value, ['romantic', 'comedies'], 'romantic comedies'))\n",
    "\n",
    "df.genre_list.value_counts().head(30)"
   ]
  },
  {
   "cell_type": "code",
   "execution_count": null,
   "id": "statewide-visit",
   "metadata": {},
   "outputs": [],
   "source": [
    "df['genre_list'] = df['genre_list'].apply(lambda value: fuse_genre(value, ['comedies', 'dramas'], 'dramatic comedies'))\n",
    "\n",
    "df.genre_list.value_counts().head(30)"
   ]
  },
  {
   "cell_type": "code",
   "execution_count": null,
   "id": "prescribed-hacker",
   "metadata": {},
   "outputs": [],
   "source": [
    "df['genre_list'] = df['genre_list'].apply(lambda value: fuse_genre(value, ['dramas', 'romantic'], 'romantic'))\n",
    "\n",
    "df.genre_list.value_counts().head(30)"
   ]
  },
  {
   "cell_type": "code",
   "execution_count": null,
   "id": "popular-silver",
   "metadata": {},
   "outputs": [],
   "source": [
    "df['genre_list'] = df['genre_list'].apply(lambda value: fuse_genre(value, ['dramas', 'thrillers']  , 'thrillers'))\n",
    "\n",
    "df.genre_list.value_counts().head(30)"
   ]
  },
  {
   "cell_type": "code",
   "execution_count": null,
   "id": "brief-conducting",
   "metadata": {},
   "outputs": [],
   "source": [
    "df['genre_list'] = df['genre_list'].apply(lambda value: fuse_genre(value, ['action & adventure', 'dramas']  , 'thrillers'))\n",
    "\n",
    "df.genre_list.value_counts().head(30)"
   ]
  },
  {
   "cell_type": "code",
   "execution_count": null,
   "id": "clean-enhancement",
   "metadata": {},
   "outputs": [],
   "source": [
    "df['genre_list'] = df['genre_list'].apply(lambda value: fuse_genre(value, ['dramas', 'horror']  , 'horror'))\n",
    "\n",
    "df.genre_list.value_counts().head(30)"
   ]
  },
  {
   "cell_type": "code",
   "execution_count": null,
   "id": "brutal-seller",
   "metadata": {},
   "outputs": [],
   "source": [
    "def remove_genre(value, genre, val_len):\n",
    "    \n",
    "    if (len(value) >= val_len) and (genre in value):\n",
    "        \n",
    "        value.remove(genre)\n",
    "        \n",
    "    return value"
   ]
  },
  {
   "cell_type": "code",
   "execution_count": null,
   "id": "hearing-possibility",
   "metadata": {},
   "outputs": [],
   "source": [
    "df['genre_list'] = df['genre_list'].apply(lambda value: remove_genre(value,'dramas', 3))\n",
    "\n",
    "df.genre_list.value_counts().head(30)"
   ]
  },
  {
   "cell_type": "code",
   "execution_count": null,
   "id": "loving-marketplace",
   "metadata": {},
   "outputs": [],
   "source": [
    "df['genre_list'] = df['genre_list'].apply(lambda value: fuse_genre(value, ['romantic', 'comedies'], 'romantic comedies'))\n",
    "\n",
    "df.genre_list.value_counts().head(30)"
   ]
  },
  {
   "cell_type": "code",
   "execution_count": null,
   "id": "unsigned-ordinance",
   "metadata": {},
   "outputs": [],
   "source": [
    "merge_list = ['horror']\n",
    "df['genre_list'] = df['genre_list'].apply(lambda value: merge_genres(value,merge_list,'horror'))\n",
    "\n",
    "df.genre_list.value_counts().head(99)"
   ]
  },
  {
   "cell_type": "code",
   "execution_count": null,
   "id": "electronic-magnitude",
   "metadata": {},
   "outputs": [],
   "source": [
    "df['genre_list'] = df['genre_list'].apply(lambda value: fuse_genre(value, ['action & adventure', 'comedies'], 'action & adventure comedies'))\n",
    "\n",
    "df.genre_list.value_counts().head(99)"
   ]
  },
  {
   "cell_type": "code",
   "execution_count": null,
   "id": "alternate-lincoln",
   "metadata": {},
   "outputs": [],
   "source": [
    "print(df.shape)\n",
    "df = df[df['genre_list'].map(lambda d: len(d)) == 1]\n",
    "print(df.shape)"
   ]
  },
  {
   "cell_type": "code",
   "execution_count": null,
   "id": "psychological-wayne",
   "metadata": {},
   "outputs": [],
   "source": [
    "df.head()"
   ]
  },
  {
   "cell_type": "code",
   "execution_count": null,
   "id": "alternative-taxation",
   "metadata": {},
   "outputs": [],
   "source": [
    "df['genre'] = df.genre_list.apply(lambda value: value[0])\n",
    "df.head()"
   ]
  },
  {
   "cell_type": "code",
   "execution_count": null,
   "id": "crazy-petroleum",
   "metadata": {},
   "outputs": [],
   "source": [
    "df = df.drop(columns = 'genre_list')\n",
    "\n",
    "df.head()"
   ]
  },
  {
   "cell_type": "code",
   "execution_count": null,
   "id": "strong-removal",
   "metadata": {},
   "outputs": [],
   "source": [
    "set(df.genre.to_list())"
   ]
  },
  {
   "cell_type": "code",
   "execution_count": null,
   "id": "individual-giving",
   "metadata": {},
   "outputs": [],
   "source": []
  }
 ],
 "metadata": {
  "kernelspec": {
   "display_name": "Python 3",
   "language": "python",
   "name": "python3"
  },
  "language_info": {
   "codemirror_mode": {
    "name": "ipython",
    "version": 3
   },
   "file_extension": ".py",
   "mimetype": "text/x-python",
   "name": "python",
   "nbconvert_exporter": "python",
   "pygments_lexer": "ipython3",
   "version": "3.7.4"
  }
 },
 "nbformat": 4,
 "nbformat_minor": 5
}

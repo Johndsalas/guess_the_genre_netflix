{
 "cells": [
  {
   "cell_type": "markdown",
   "id": "limited-colonial",
   "metadata": {},
   "source": [
    "# Imports"
   ]
  },
  {
   "cell_type": "code",
   "execution_count": 1,
   "id": "upset-deployment",
   "metadata": {},
   "outputs": [],
   "source": [
    "import pandas as pd\n",
    "import re\n",
    "\n",
    "import unicodedata\n",
    "import nltk\n",
    "from nltk.tokenize.toktok import ToktokTokenizer\n",
    "from nltk.corpus import stopwords\n",
    "\n",
    "import wrangle\n",
    "import explore\n",
    "import modeling"
   ]
  },
  {
   "cell_type": "markdown",
   "id": "understanding-hierarchy",
   "metadata": {},
   "source": [
    "# Acquire\n",
    "\n",
    "* Data aquired from [Kaggle](https://www.kaggle.com/satpreetmakhija/netflix-movies-and-tv-shows-2021) on 2/04/2022\n",
    "* Each observation represents on movie or film series \n",
    "* Because the distinction between a single movie an a multi-part series is not relevant to this study I will be referring to each as a movie for the duration of this study\n",
    "* The original data set had 5967 rows and 13 columns"
   ]
  },
  {
   "cell_type": "code",
   "execution_count": 2,
   "id": "exceptional-judge",
   "metadata": {},
   "outputs": [
    {
     "data": {
      "text/plain": [
       "(5967, 13)"
      ]
     },
     "execution_count": 2,
     "metadata": {},
     "output_type": "execute_result"
    }
   ],
   "source": [
    "# read the csv into pandas\n",
    "df = pd.read_csv('netflixdata.csv')\n",
    "df.shape"
   ]
  },
  {
   "cell_type": "markdown",
   "id": "minor-enlargement",
   "metadata": {},
   "source": [
    "# Prepare"
   ]
  },
  {
   "cell_type": "code",
   "execution_count": 3,
   "id": "moved-musical",
   "metadata": {},
   "outputs": [
    {
     "data": {
      "text/plain": [
       "Index(['Show Id', 'Title', 'Description', 'Director', 'Genres', 'Cast',\n",
       "       'Production Country', 'Release Date', 'Rating', 'Duration',\n",
       "       'Imdb Score', 'Content Type', 'Date Added'],\n",
       "      dtype='object')"
      ]
     },
     "execution_count": 3,
     "metadata": {},
     "output_type": "execute_result"
    }
   ],
   "source": [
    "df.columns"
   ]
  },
  {
   "cell_type": "code",
   "execution_count": 4,
   "id": "specific-native",
   "metadata": {},
   "outputs": [
    {
     "data": {
      "text/html": [
       "<div>\n",
       "<style scoped>\n",
       "    .dataframe tbody tr th:only-of-type {\n",
       "        vertical-align: middle;\n",
       "    }\n",
       "\n",
       "    .dataframe tbody tr th {\n",
       "        vertical-align: top;\n",
       "    }\n",
       "\n",
       "    .dataframe thead th {\n",
       "        text-align: right;\n",
       "    }\n",
       "</style>\n",
       "<table border=\"1\" class=\"dataframe\">\n",
       "  <thead>\n",
       "    <tr style=\"text-align: right;\">\n",
       "      <th></th>\n",
       "      <th>Description</th>\n",
       "      <th>Genres</th>\n",
       "    </tr>\n",
       "  </thead>\n",
       "  <tbody>\n",
       "    <tr>\n",
       "      <th>0</th>\n",
       "      <td>This docuseries takes a deep dive into the luc...</td>\n",
       "      <td>Reality TV</td>\n",
       "    </tr>\n",
       "    <tr>\n",
       "      <th>1</th>\n",
       "      <td>As a grisly virus rampages a city, a lone man ...</td>\n",
       "      <td>Horror Movies, International Movies, Thrillers</td>\n",
       "    </tr>\n",
       "    <tr>\n",
       "      <th>2</th>\n",
       "      <td>Through her diary, Anne Frank's story is retol...</td>\n",
       "      <td>Documentaries, International Movies</td>\n",
       "    </tr>\n",
       "    <tr>\n",
       "      <th>3</th>\n",
       "      <td>Kenya Barris and his family navigate relations...</td>\n",
       "      <td>TV Comedies</td>\n",
       "    </tr>\n",
       "    <tr>\n",
       "      <th>4</th>\n",
       "      <td>This pawesome documentary explores how our fel...</td>\n",
       "      <td>Documentaries, International Movies</td>\n",
       "    </tr>\n",
       "  </tbody>\n",
       "</table>\n",
       "</div>"
      ],
      "text/plain": [
       "                                         Description  \\\n",
       "0  This docuseries takes a deep dive into the luc...   \n",
       "1  As a grisly virus rampages a city, a lone man ...   \n",
       "2  Through her diary, Anne Frank's story is retol...   \n",
       "3  Kenya Barris and his family navigate relations...   \n",
       "4  This pawesome documentary explores how our fel...   \n",
       "\n",
       "                                           Genres  \n",
       "0                                      Reality TV  \n",
       "1  Horror Movies, International Movies, Thrillers  \n",
       "2             Documentaries, International Movies  \n",
       "3                                     TV Comedies  \n",
       "4             Documentaries, International Movies  "
      ]
     },
     "execution_count": 4,
     "metadata": {},
     "output_type": "execute_result"
    }
   ],
   "source": [
    "df = df[['Description','Genres']]\n",
    "df.head()"
   ]
  },
  {
   "cell_type": "code",
   "execution_count": 5,
   "id": "virtual-convention",
   "metadata": {},
   "outputs": [
    {
     "data": {
      "text/html": [
       "<div>\n",
       "<style scoped>\n",
       "    .dataframe tbody tr th:only-of-type {\n",
       "        vertical-align: middle;\n",
       "    }\n",
       "\n",
       "    .dataframe tbody tr th {\n",
       "        vertical-align: top;\n",
       "    }\n",
       "\n",
       "    .dataframe thead th {\n",
       "        text-align: right;\n",
       "    }\n",
       "</style>\n",
       "<table border=\"1\" class=\"dataframe\">\n",
       "  <thead>\n",
       "    <tr style=\"text-align: right;\">\n",
       "      <th></th>\n",
       "      <th>Description</th>\n",
       "      <th>Genres</th>\n",
       "    </tr>\n",
       "  </thead>\n",
       "  <tbody>\n",
       "    <tr>\n",
       "      <th>0</th>\n",
       "      <td>this docuseries takes a deep dive into the luc...</td>\n",
       "      <td>reality tv</td>\n",
       "    </tr>\n",
       "    <tr>\n",
       "      <th>1</th>\n",
       "      <td>as a grisly virus rampages a city, a lone man ...</td>\n",
       "      <td>horror movies, international movies, thrillers</td>\n",
       "    </tr>\n",
       "    <tr>\n",
       "      <th>2</th>\n",
       "      <td>through her diary, anne frank's story is retol...</td>\n",
       "      <td>documentaries, international movies</td>\n",
       "    </tr>\n",
       "    <tr>\n",
       "      <th>3</th>\n",
       "      <td>kenya barris and his family navigate relations...</td>\n",
       "      <td>tv comedies</td>\n",
       "    </tr>\n",
       "    <tr>\n",
       "      <th>4</th>\n",
       "      <td>this pawesome documentary explores how our fel...</td>\n",
       "      <td>documentaries, international movies</td>\n",
       "    </tr>\n",
       "  </tbody>\n",
       "</table>\n",
       "</div>"
      ],
      "text/plain": [
       "                                         Description  \\\n",
       "0  this docuseries takes a deep dive into the luc...   \n",
       "1  as a grisly virus rampages a city, a lone man ...   \n",
       "2  through her diary, anne frank's story is retol...   \n",
       "3  kenya barris and his family navigate relations...   \n",
       "4  this pawesome documentary explores how our fel...   \n",
       "\n",
       "                                           Genres  \n",
       "0                                      reality tv  \n",
       "1  horror movies, international movies, thrillers  \n",
       "2             documentaries, international movies  \n",
       "3                                     tv comedies  \n",
       "4             documentaries, international movies  "
      ]
     },
     "execution_count": 5,
     "metadata": {},
     "output_type": "execute_result"
    }
   ],
   "source": [
    "# Lowercase all of the letters in both columns\n",
    "df['Description'] = df['Description'].apply(lambda value: value.lower())\n",
    "df['Genres'] = df['Genres'].apply(lambda value: value.lower())\n",
    "df.head()"
   ]
  },
  {
   "cell_type": "code",
   "execution_count": 6,
   "id": "timely-bumper",
   "metadata": {},
   "outputs": [
    {
     "data": {
      "text/html": [
       "<div>\n",
       "<style scoped>\n",
       "    .dataframe tbody tr th:only-of-type {\n",
       "        vertical-align: middle;\n",
       "    }\n",
       "\n",
       "    .dataframe tbody tr th {\n",
       "        vertical-align: top;\n",
       "    }\n",
       "\n",
       "    .dataframe thead th {\n",
       "        text-align: right;\n",
       "    }\n",
       "</style>\n",
       "<table border=\"1\" class=\"dataframe\">\n",
       "  <thead>\n",
       "    <tr style=\"text-align: right;\">\n",
       "      <th></th>\n",
       "      <th>description</th>\n",
       "      <th>genre</th>\n",
       "    </tr>\n",
       "  </thead>\n",
       "  <tbody>\n",
       "    <tr>\n",
       "      <th>0</th>\n",
       "      <td>this docuseries takes a deep dive into the luc...</td>\n",
       "      <td>reality tv</td>\n",
       "    </tr>\n",
       "    <tr>\n",
       "      <th>1</th>\n",
       "      <td>as a grisly virus rampages a city, a lone man ...</td>\n",
       "      <td>horror movies, international movies, thrillers</td>\n",
       "    </tr>\n",
       "    <tr>\n",
       "      <th>2</th>\n",
       "      <td>through her diary, anne frank's story is retol...</td>\n",
       "      <td>documentaries, international movies</td>\n",
       "    </tr>\n",
       "    <tr>\n",
       "      <th>3</th>\n",
       "      <td>kenya barris and his family navigate relations...</td>\n",
       "      <td>tv comedies</td>\n",
       "    </tr>\n",
       "    <tr>\n",
       "      <th>4</th>\n",
       "      <td>this pawesome documentary explores how our fel...</td>\n",
       "      <td>documentaries, international movies</td>\n",
       "    </tr>\n",
       "  </tbody>\n",
       "</table>\n",
       "</div>"
      ],
      "text/plain": [
       "                                         description  \\\n",
       "0  this docuseries takes a deep dive into the luc...   \n",
       "1  as a grisly virus rampages a city, a lone man ...   \n",
       "2  through her diary, anne frank's story is retol...   \n",
       "3  kenya barris and his family navigate relations...   \n",
       "4  this pawesome documentary explores how our fel...   \n",
       "\n",
       "                                            genre  \n",
       "0                                      reality tv  \n",
       "1  horror movies, international movies, thrillers  \n",
       "2             documentaries, international movies  \n",
       "3                                     tv comedies  \n",
       "4             documentaries, international movies  "
      ]
     },
     "execution_count": 6,
     "metadata": {},
     "output_type": "execute_result"
    }
   ],
   "source": [
    "# rename columns\n",
    "df.rename(columns={'Description':'description', 'Genres':'genre'}, inplace = True)\n",
    "df.head()"
   ]
  },
  {
   "cell_type": "code",
   "execution_count": 7,
   "id": "african-basics",
   "metadata": {},
   "outputs": [
    {
     "data": {
      "text/html": [
       "<div>\n",
       "<style scoped>\n",
       "    .dataframe tbody tr th:only-of-type {\n",
       "        vertical-align: middle;\n",
       "    }\n",
       "\n",
       "    .dataframe tbody tr th {\n",
       "        vertical-align: top;\n",
       "    }\n",
       "\n",
       "    .dataframe thead th {\n",
       "        text-align: right;\n",
       "    }\n",
       "</style>\n",
       "<table border=\"1\" class=\"dataframe\">\n",
       "  <thead>\n",
       "    <tr style=\"text-align: right;\">\n",
       "      <th></th>\n",
       "      <th>description</th>\n",
       "      <th>genre</th>\n",
       "    </tr>\n",
       "  </thead>\n",
       "  <tbody>\n",
       "    <tr>\n",
       "      <th>0</th>\n",
       "      <td>this docuseries takes a deep dive into the luc...</td>\n",
       "      <td>reality tv</td>\n",
       "    </tr>\n",
       "    <tr>\n",
       "      <th>1</th>\n",
       "      <td>as a grisly virus rampages a city, a lone man ...</td>\n",
       "      <td>horror movies, international movies, thrillers</td>\n",
       "    </tr>\n",
       "    <tr>\n",
       "      <th>2</th>\n",
       "      <td>through her diary, anne frank's story is retol...</td>\n",
       "      <td>documentaries, international movies</td>\n",
       "    </tr>\n",
       "    <tr>\n",
       "      <th>3</th>\n",
       "      <td>kenya barris and his family navigate relations...</td>\n",
       "      <td>tv comedies</td>\n",
       "    </tr>\n",
       "    <tr>\n",
       "      <th>4</th>\n",
       "      <td>this pawesome documentary explores how our fel...</td>\n",
       "      <td>documentaries, international movies</td>\n",
       "    </tr>\n",
       "  </tbody>\n",
       "</table>\n",
       "</div>"
      ],
      "text/plain": [
       "                                         description  \\\n",
       "0  this docuseries takes a deep dive into the luc...   \n",
       "1  as a grisly virus rampages a city, a lone man ...   \n",
       "2  through her diary, anne frank's story is retol...   \n",
       "3  kenya barris and his family navigate relations...   \n",
       "4  this pawesome documentary explores how our fel...   \n",
       "\n",
       "                                            genre  \n",
       "0                                      reality tv  \n",
       "1  horror movies, international movies, thrillers  \n",
       "2             documentaries, international movies  \n",
       "3                                     tv comedies  \n",
       "4             documentaries, international movies  "
      ]
     },
     "execution_count": 7,
     "metadata": {},
     "output_type": "execute_result"
    }
   ],
   "source": [
    "# remove non-ascii characters from description text \n",
    "df['description'] = df['description'].apply(lambda value: unicodedata.normalize('NFKD', value)\\\n",
    "                                                                     .encode('ascii', 'ignore')\\\n",
    "                                                                     .decode('utf-8', 'ignore'))\n",
    "df.head()"
   ]
  },
  {
   "cell_type": "code",
   "execution_count": 8,
   "id": "narrow-brunei",
   "metadata": {},
   "outputs": [
    {
     "data": {
      "text/html": [
       "<div>\n",
       "<style scoped>\n",
       "    .dataframe tbody tr th:only-of-type {\n",
       "        vertical-align: middle;\n",
       "    }\n",
       "\n",
       "    .dataframe tbody tr th {\n",
       "        vertical-align: top;\n",
       "    }\n",
       "\n",
       "    .dataframe thead th {\n",
       "        text-align: right;\n",
       "    }\n",
       "</style>\n",
       "<table border=\"1\" class=\"dataframe\">\n",
       "  <thead>\n",
       "    <tr style=\"text-align: right;\">\n",
       "      <th></th>\n",
       "      <th>description</th>\n",
       "      <th>genre</th>\n",
       "    </tr>\n",
       "  </thead>\n",
       "  <tbody>\n",
       "    <tr>\n",
       "      <th>0</th>\n",
       "      <td>this docuseries takes a deep dive into the luc...</td>\n",
       "      <td>reality tv</td>\n",
       "    </tr>\n",
       "    <tr>\n",
       "      <th>1</th>\n",
       "      <td>as a grisly virus rampages a city a lone man s...</td>\n",
       "      <td>horror movies, international movies, thrillers</td>\n",
       "    </tr>\n",
       "    <tr>\n",
       "      <th>2</th>\n",
       "      <td>through her diary anne frank's story is retold...</td>\n",
       "      <td>documentaries, international movies</td>\n",
       "    </tr>\n",
       "    <tr>\n",
       "      <th>3</th>\n",
       "      <td>kenya barris and his family navigate relations...</td>\n",
       "      <td>tv comedies</td>\n",
       "    </tr>\n",
       "    <tr>\n",
       "      <th>4</th>\n",
       "      <td>this pawesome documentary explores how our fel...</td>\n",
       "      <td>documentaries, international movies</td>\n",
       "    </tr>\n",
       "  </tbody>\n",
       "</table>\n",
       "</div>"
      ],
      "text/plain": [
       "                                         description  \\\n",
       "0  this docuseries takes a deep dive into the luc...   \n",
       "1  as a grisly virus rampages a city a lone man s...   \n",
       "2  through her diary anne frank's story is retold...   \n",
       "3  kenya barris and his family navigate relations...   \n",
       "4  this pawesome documentary explores how our fel...   \n",
       "\n",
       "                                            genre  \n",
       "0                                      reality tv  \n",
       "1  horror movies, international movies, thrillers  \n",
       "2             documentaries, international movies  \n",
       "3                                     tv comedies  \n",
       "4             documentaries, international movies  "
      ]
     },
     "execution_count": 8,
     "metadata": {},
     "output_type": "execute_result"
    }
   ],
   "source": [
    "# remove special characters from description text\n",
    "df['description'] = df['description'].apply(lambda value: re.sub(r\"[^a-z0-9'\\s]\", '', value))\n",
    "\n",
    "df.head()"
   ]
  },
  {
   "cell_type": "code",
   "execution_count": 9,
   "id": "juvenile-median",
   "metadata": {},
   "outputs": [
    {
     "data": {
      "text/html": [
       "<div>\n",
       "<style scoped>\n",
       "    .dataframe tbody tr th:only-of-type {\n",
       "        vertical-align: middle;\n",
       "    }\n",
       "\n",
       "    .dataframe tbody tr th {\n",
       "        vertical-align: top;\n",
       "    }\n",
       "\n",
       "    .dataframe thead th {\n",
       "        text-align: right;\n",
       "    }\n",
       "</style>\n",
       "<table border=\"1\" class=\"dataframe\">\n",
       "  <thead>\n",
       "    <tr style=\"text-align: right;\">\n",
       "      <th></th>\n",
       "      <th>description</th>\n",
       "      <th>genre</th>\n",
       "    </tr>\n",
       "  </thead>\n",
       "  <tbody>\n",
       "    <tr>\n",
       "      <th>0</th>\n",
       "      <td>this docuseries takes a deep dive into the luc...</td>\n",
       "      <td>reality tv</td>\n",
       "    </tr>\n",
       "    <tr>\n",
       "      <th>1</th>\n",
       "      <td>as a grisly virus rampages a city a lone man s...</td>\n",
       "      <td>horror movies, international movies, thrillers</td>\n",
       "    </tr>\n",
       "    <tr>\n",
       "      <th>2</th>\n",
       "      <td>through her diary anne frank ' s story is reto...</td>\n",
       "      <td>documentaries, international movies</td>\n",
       "    </tr>\n",
       "    <tr>\n",
       "      <th>3</th>\n",
       "      <td>kenya barris and his family navigate relations...</td>\n",
       "      <td>tv comedies</td>\n",
       "    </tr>\n",
       "    <tr>\n",
       "      <th>4</th>\n",
       "      <td>this pawesome documentary explores how our fel...</td>\n",
       "      <td>documentaries, international movies</td>\n",
       "    </tr>\n",
       "  </tbody>\n",
       "</table>\n",
       "</div>"
      ],
      "text/plain": [
       "                                         description  \\\n",
       "0  this docuseries takes a deep dive into the luc...   \n",
       "1  as a grisly virus rampages a city a lone man s...   \n",
       "2  through her diary anne frank ' s story is reto...   \n",
       "3  kenya barris and his family navigate relations...   \n",
       "4  this pawesome documentary explores how our fel...   \n",
       "\n",
       "                                            genre  \n",
       "0                                      reality tv  \n",
       "1  horror movies, international movies, thrillers  \n",
       "2             documentaries, international movies  \n",
       "3                                     tv comedies  \n",
       "4             documentaries, international movies  "
      ]
     },
     "execution_count": 9,
     "metadata": {},
     "output_type": "execute_result"
    }
   ],
   "source": [
    "# create tokenizer object\n",
    "tokenizer = nltk.tokenize.ToktokTokenizer()\n",
    "\n",
    "# tokenize text in description\n",
    "df['description'] = df['description'].apply(lambda value: tokenizer.tokenize(value, return_str=True))\n",
    "\n",
    "df.head()"
   ]
  },
  {
   "cell_type": "code",
   "execution_count": 10,
   "id": "unlimited-retro",
   "metadata": {},
   "outputs": [
    {
     "ename": "NameError",
     "evalue": "name 'original' is not defined",
     "output_type": "error",
     "traceback": [
      "\u001b[0;31m---------------------------------------------------------------------------\u001b[0m",
      "\u001b[0;31mNameError\u001b[0m                                 Traceback (most recent call last)",
      "\u001b[0;32m<ipython-input-10-7e78f3c8583a>\u001b[0m in \u001b[0;36m<module>\u001b[0;34m\u001b[0m\n\u001b[1;32m      1\u001b[0m \u001b[0mtokenizer\u001b[0m \u001b[0;34m=\u001b[0m \u001b[0mnltk\u001b[0m\u001b[0;34m.\u001b[0m\u001b[0mtokenize\u001b[0m\u001b[0;34m.\u001b[0m\u001b[0mToktokTokenizer\u001b[0m\u001b[0;34m(\u001b[0m\u001b[0;34m)\u001b[0m\u001b[0;34m\u001b[0m\u001b[0;34m\u001b[0m\u001b[0m\n\u001b[1;32m      2\u001b[0m \u001b[0;34m\u001b[0m\u001b[0m\n\u001b[0;32m----> 3\u001b[0;31m \u001b[0mprint\u001b[0m\u001b[0;34m(\u001b[0m\u001b[0mtokenizer\u001b[0m\u001b[0;34m.\u001b[0m\u001b[0mtokenize\u001b[0m\u001b[0;34m(\u001b[0m\u001b[0moriginal\u001b[0m\u001b[0;34m,\u001b[0m \u001b[0mreturn_str\u001b[0m\u001b[0;34m=\u001b[0m\u001b[0;32mTrue\u001b[0m\u001b[0;34m)\u001b[0m\u001b[0;34m)\u001b[0m\u001b[0;34m\u001b[0m\u001b[0;34m\u001b[0m\u001b[0m\n\u001b[0m",
      "\u001b[0;31mNameError\u001b[0m: name 'original' is not defined"
     ]
    }
   ],
   "source": [
    "wnl = nltk.stem.WordNetLemmatizer()\n",
    "\n",
    "\n",
    "for word in 'study studies'.split():\n",
    "    print('stem:', ps.stem(word), '-- lemma:', wnl.lemmatize(word))"
   ]
  },
  {
   "cell_type": "code",
   "execution_count": null,
   "id": "unique-brighton",
   "metadata": {},
   "outputs": [],
   "source": []
  }
 ],
 "metadata": {
  "kernelspec": {
   "display_name": "Python 3",
   "language": "python",
   "name": "python3"
  },
  "language_info": {
   "codemirror_mode": {
    "name": "ipython",
    "version": 3
   },
   "file_extension": ".py",
   "mimetype": "text/x-python",
   "name": "python",
   "nbconvert_exporter": "python",
   "pygments_lexer": "ipython3",
   "version": "3.7.4"
  }
 },
 "nbformat": 4,
 "nbformat_minor": 5
}
